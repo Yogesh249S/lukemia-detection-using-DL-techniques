{
 "cells": [
  {
   "cell_type": "markdown",
   "metadata": {
    "id": "7XLoBMRb6tX1"
   },
   "source": [
    "# Solve the problem leveraging ResNet-50 architecture\n",
    "In this notebook, we will use the ResNet-50 architecture for our classification problem.\n",
    "\n",
    "First, we'll try a simple **feature extraction**. Since the architecture was trained on a different dataset, we do not expect very good performance, but we can use these results as a baseline for the next step: **fine-tuning**."
   ]
  },
  {
   "cell_type": "markdown",
   "metadata": {
    "id": "l5s-N9DXYZDC"
   },
   "source": [
    "## Import Libraries\n",
    "First of all, let's import all the libraries we will need later."
   ]
  },
  {
   "cell_type": "code",
   "execution_count": 1,
   "metadata": {
    "id": "790GcOInQ_yw"
   },
   "outputs": [],
   "source": [
    "from google.colab import drive\n",
    "import os\n",
    "import shutil\n",
    "\n",
    "import numpy as np\n",
    "import random as rn\n",
    "import tensorflow as tf\n",
    "from tensorflow import keras\n",
    "from tensorflow.keras.utils import image_dataset_from_directory\n",
    "from tensorflow.keras import layers, models\n",
    "from tensorflow.keras.models import Sequential\n",
    "from tensorflow.keras import optimizers\n",
    "from tensorflow.keras import regularizers\n",
    "from keras.models import Model\n",
    "import matplotlib.pyplot as plt\n",
    "from sklearn import metrics\n",
    "from sklearn.metrics import confusion_matrix\n",
    "from keras.applications.convnext import preprocess_input, decode_predictions"
   ]
  },
  {
   "cell_type": "markdown",
   "metadata": {
    "id": "ziUa8uCi9rH0"
   },
   "source": [
    "## Load dataset from Google Drive\n",
    "The dataset is stored in Google Drive in a zip file, we unzip it locally for better performance."
   ]
  },
  {
   "cell_type": "code",
   "execution_count": 2,
   "metadata": {
    "colab": {
     "base_uri": "https://localhost:8080/"
    },
    "id": "j6w8FmzyT9cH",
    "outputId": "629a98f4-df9c-41d9-fd2c-c9d5358be86d"
   },
   "outputs": [
    {
     "name": "stdout",
     "output_type": "stream",
     "text": [
      "Mounted at /content/drive\n"
     ]
    }
   ],
   "source": [
    "drive.mount('/content/drive', force_remount=True)\n",
    "!unzip -q \"/content/drive/My Drive/SplittedDataset.zip\" -d \"/content\""
   ]
  },
  {
   "cell_type": "markdown",
   "metadata": {
    "id": "Yxzg2PnmCPQN"
   },
   "source": [
    "## Set Parameters"
   ]
  },
  {
   "cell_type": "code",
   "execution_count": 3,
   "metadata": {
    "id": "4g8Gw3SoCW2-"
   },
   "outputs": [],
   "source": [
    "DATASET_PATH = \"/content/SplittedDataset\"\n",
    "TRAINING_PATH = DATASET_PATH + '/training_set'\n",
    "TRAINING_ALL_PATH = TRAINING_PATH + '/all'\n",
    "TRAINING_HEM_PATH = TRAINING_PATH + '/hem'\n",
    "VALIDATION_PATH = DATASET_PATH + '/validation_set'\n",
    "TEST_PATH = DATASET_PATH + '/test_set'\n",
    "\n",
    "LOCAL_MODELS_FOLDER = \"/content/models\"\n",
    "if not os.path.exists(LOCAL_MODELS_FOLDER):\n",
    "  os.makedirs(LOCAL_MODELS_FOLDER)\n",
    "GLOBAL_MODELS_FOLDER = \"/content/drive/My Drive/Baldi_Cioffo/models/resnet-101\"\n",
    "if not os.path.exists(GLOBAL_MODELS_FOLDER):\n",
    "  os.makedirs(GLOBAL_MODELS_FOLDER)\n",
    "\n",
    "# Default values to load the dataset\n",
    "BATCH_SIZE = 32\n",
    "IMAGE_HEIGHT = 224\n",
    "IMAGE_WIDTH = 224"
   ]
  },
  {
   "cell_type": "markdown",
   "metadata": {
    "id": "NaDMLtupmIEk"
   },
   "source": [
    "## Utility Functions"
   ]
  },
  {
   "cell_type": "code",
   "execution_count": 4,
   "metadata": {
    "id": "fSX3ug4Cgwww"
   },
   "outputs": [],
   "source": [
    "def set_seed ():\n",
    "  '''\n",
    "  set_seed is used to obtain reproducible results using keras during the development phase\n",
    "  '''\n",
    "  seed = 24\n",
    "  # The below is necessary for reproducible results of certain Python hash-based operations.\n",
    "  os.environ[\"PYTHONHASHSEED\"]=\"0\"\n",
    "  # The below is necessary for starting Numpy generated random numbers in a well-defined initial state.\n",
    "  np.random.seed(seed)\n",
    "  # The below is necessary for starting core Python generated random numbers in a well-defined state.\n",
    "  rn.seed(seed)\n",
    "  # The below tf.random.set_seed will make random number generation in TensorFlow have a well-defined initial state.\n",
    "  tf.random.set_seed(seed)\n",
    "\n",
    "def show_training_and_validation_performance(history):\n",
    "  '''\n",
    "  show_training_and_validation_performance is used to plot the performances during the training phase\n",
    "  :param history: object in which are recorded all the events\n",
    "  '''\n",
    "  acc = history.history['accuracy']\n",
    "  val_acc = history.history['val_accuracy']\n",
    "  loss = history.history['loss']\n",
    "  val_loss = history.history['val_loss']\n",
    "\n",
    "  epochs = range(len(acc))\n",
    "\n",
    "  plt.plot(epochs, acc, 'bo', label='Training accuracy')\n",
    "  plt.plot(epochs, val_acc, 'b', label='Validation accuracy')\n",
    "  plt.title('Training and validation accuracy')\n",
    "  plt.legend()\n",
    "\n",
    "  plt.figure()\n",
    "\n",
    "  plt.plot(epochs, loss, 'bo', label='Training loss')\n",
    "  plt.plot(epochs, val_loss, 'b', label='Validation loss')\n",
    "  plt.title('Training and validation loss')\n",
    "  plt.legend()\n",
    "\n",
    "  plt.show()\n",
    "\n",
    "def load_training_set (image_height, image_width, batch_size):\n",
    "  '''\n",
    "  load_training_set loads the training set from the \"training_set\" folder. The images are resized to height x width\n",
    "  :param image_height: standard height of the images\n",
    "  :param image_width: standard width of the images\n",
    "  :param batch_size: size of each batch\n",
    "  :return: the training set\n",
    "  '''\n",
    "  return image_dataset_from_directory(\n",
    "    TRAINING_PATH,\n",
    "    image_size = (image_height, image_width),\n",
    "    batch_size = batch_size,\n",
    "    class_names = ['hem', 'all']) # explicit ordering of the labels, 0 for hem, 1 for all\n",
    "\n",
    "def load_validation_set (image_height, image_width, batch_size):\n",
    "  '''\n",
    "  load_validation_set loads the validation set from the \"validation_set\" folder. The images are resized to height x width\n",
    "  :param image_height: standard height of the images\n",
    "  :param image_width: standard width of the images\n",
    "  :param batch_size: size of each batch\n",
    "  :return: the validation set\n",
    "  '''\n",
    "  return image_dataset_from_directory(\n",
    "    VALIDATION_PATH,\n",
    "    image_size = (image_height, image_width),\n",
    "    batch_size = batch_size,\n",
    "    class_names = ['hem', 'all']) # explicit ordering of the labels, 0 for hem, 1 for all\n",
    "\n",
    "def load_test_set (image_height, image_width, batch_size):\n",
    "  '''\n",
    "  load_test_set loads the test set from the \"test_set\" folder. The images are resized to height x width\n",
    "  :param image_height: standard height of the images\n",
    "  :param image_width: standard width of the images\n",
    "  :param batch_size: size of each batch\n",
    "  :return: the test set\n",
    "  '''\n",
    "  return image_dataset_from_directory(\n",
    "    TEST_PATH,\n",
    "    image_size = (image_height, image_width),\n",
    "    batch_size = batch_size,\n",
    "    shuffle = False,\n",
    "    class_names = ['hem', 'all']) # explicit ordering of the labels, 0 for hem, 1 for all\n",
    "\n",
    "def compile_model (model, optimizer='adam', learning_rate = 0.001):\n",
    "  '''\n",
    "  compile_model is used to compile the current model\n",
    "  :param model: model to compile\n",
    "  :param optimizer: optimizer to be used\n",
    "  :param learning_rate: learning rate parameter for the optimizer\n",
    "  '''\n",
    "  if optimizer == 'adam':\n",
    "    model.compile(loss=\"binary_crossentropy\",\n",
    "      optimizer=optimizers.Adam(learning_rate=learning_rate),\n",
    "      metrics=[\"accuracy\"])\n",
    "  elif optimizer == 'rmsprop':\n",
    "    model.compile(loss=\"binary_crossentropy\",\n",
    "                  optimizer = optimizers.RMSprop(learning_rate=learning_rate),\n",
    "                  metrics=['accuracy'])\n",
    "  model.summary()\n",
    "\n",
    "def run_model (model, model_name, epochs = 20, patience=5, monitor='val_loss'):\n",
    "  '''\n",
    "  run_model is used to run the current mode\n",
    "  :param model: model to run\n",
    "  :param model_name: name given to save the model\n",
    "  :param epochs: how many epochs to do\n",
    "  :param patience: patience value for Early Stopping\n",
    "  :param monitor: what to monitor for Early Stopping and Model Checkpoint\n",
    "  '''\n",
    "  # local save path for the models\n",
    "  save_path = LOCAL_MODELS_FOLDER + '/' + model_name + '.keras'\n",
    "  callbacks_list = [\n",
    "                  keras.callbacks.EarlyStopping(monitor=monitor, patience=patience),\n",
    "                  keras.callbacks.ModelCheckpoint(\n",
    "                      filepath = save_path,\n",
    "                      monitor=monitor,\n",
    "                      verbose=1,\n",
    "                      save_best_only=True)\n",
    "                  ]\n",
    "  history = model.fit(train_dataset,\n",
    "                    epochs=epochs,\n",
    "                    validation_data=validation_dataset,\n",
    "                    callbacks=callbacks_list)\n",
    "  # save on Drive only the best model\n",
    "\n",
    "  shutil.copy(save_path, GLOBAL_MODELS_FOLDER + '/' + model_name + '.keras')\n",
    "  show_training_and_validation_performance(history)\n",
    "\n",
    "def evaluate_model (model):\n",
    "  '''\n",
    "  evaluate_model is used to plot some statistics about the performance on the test set\n",
    "  :param model: model to consider\n",
    "  '''\n",
    "  y_score = model.predict(test_dataset)\n",
    "  y_pred = np.rint(y_score) # to have 0 or 1\n",
    "  y_true = tf.concat([labels_batch for data_batch, labels_batch in test_dataset], axis = 0)\n",
    "  print(\"Classification report: \")\n",
    "  print(metrics.classification_report(y_true,y_pred,digits = 4))\n",
    "  metrics.ConfusionMatrixDisplay.from_predictions(y_true, y_pred)\n",
    "\n",
    "  # ROC curve\n",
    "  fpr,tpr,th = metrics.roc_curve(y_true,y_score)\n",
    "  roc_auc = metrics.roc_auc_score(y_true,y_score)\n",
    "\n",
    "  plt.figure()\n",
    "  plt.plot(fpr, tpr, label='ROC curve (area = %0.2f)' % roc_auc)\n",
    "  plt.plot([0, 1], [0, 1], color='navy', linestyle='--')\n",
    "  plt.xlim([0.0, 1.0])\n",
    "  plt.ylim([0.0, 1.0])\n",
    "  plt.xlabel('False Positive Rate')\n",
    "  plt.ylabel('True Positive Rate')\n",
    "  plt.title('ROC curve')\n",
    "  plt.legend(loc=\"lower right\")\n",
    "  plt.show()"
   ]
  },
  {
   "cell_type": "markdown",
   "metadata": {
    "id": "C884lZO-YiB2"
   },
   "source": [
    "## Load Dataset\n",
    "The dataset, properly preprocessed, is now located in the local machine."
   ]
  },
  {
   "cell_type": "code",
   "execution_count": 5,
   "metadata": {
    "id": "Geqbk8VwPP3v"
   },
   "outputs": [],
   "source": [
    "set_seed()"
   ]
  },
  {
   "cell_type": "code",
   "execution_count": 6,
   "metadata": {
    "colab": {
     "base_uri": "https://localhost:8080/"
    },
    "id": "0poDX9f3XRaK",
    "outputId": "071995ae-df9c-4615-87be-b654a3d88bfa"
   },
   "outputs": [
    {
     "name": "stdout",
     "output_type": "stream",
     "text": [
      "Found 6396 files belonging to 2 classes.\n",
      "Found 2132 files belonging to 2 classes.\n",
      "Found 2133 files belonging to 2 classes.\n"
     ]
    }
   ],
   "source": [
    "train_dataset = load_training_set(IMAGE_HEIGHT, IMAGE_WIDTH, BATCH_SIZE)\n",
    "validation_dataset = load_validation_set(IMAGE_HEIGHT, IMAGE_WIDTH, BATCH_SIZE)\n",
    "test_dataset = load_test_set(IMAGE_HEIGHT, IMAGE_WIDTH, BATCH_SIZE)"
   ]
  },
  {
   "cell_type": "markdown",
   "metadata": {
    "id": "zbGkxCHHC8cX"
   },
   "source": [
    "## Feature extraction\n",
    "Firstly, we use the pretrained network to extract feature and we define our classifiers to classify the images."
   ]
  },
  {
   "cell_type": "code",
   "execution_count": 7,
   "metadata": {
    "colab": {
     "base_uri": "https://localhost:8080/"
    },
    "id": "8ryJvwgmC-U-",
    "outputId": "6c68b55c-b9aa-402e-b6dd-246eeb06ccf9"
   },
   "outputs": [
    {
     "name": "stdout",
     "output_type": "stream",
     "text": [
      "Downloading data from https://storage.googleapis.com/tensorflow/keras-applications/convnext/convnext_large_notop.h5\n",
      "785596384/785596384 [==============================] - 7s 0us/step\n"
     ]
    }
   ],
   "source": [
    "\n",
    "conv_base = tf.keras.applications.ConvNeXtLarge(include_top = False, weights='imagenet', input_shape=(IMAGE_HEIGHT,IMAGE_WIDTH,3))"
   ]
  },
  {
   "cell_type": "code",
   "execution_count": 8,
   "metadata": {
    "colab": {
     "base_uri": "https://localhost:8080/"
    },
    "id": "WFIQ47uGDTR5",
    "outputId": "e6d7395a-695b-4cf0-f06e-5f3f3933d44c"
   },
   "outputs": [
    {
     "name": "stdout",
     "output_type": "stream",
     "text": [
      "Model: \"convnext_large\"\n",
      "__________________________________________________________________________________________________\n",
      " Layer (type)                Output Shape                 Param #   Connected to                  \n",
      "==================================================================================================\n",
      " input_1 (InputLayer)        [(None, 224, 224, 3)]        0         []                            \n",
      "                                                                                                  \n",
      " convnext_large_prestem_nor  (None, 224, 224, 3)          0         ['input_1[0][0]']             \n",
      " malization (Normalization)                                                                       \n",
      "                                                                                                  \n",
      " convnext_large_stem (Seque  (None, 56, 56, 192)          9792      ['convnext_large_prestem_norma\n",
      " ntial)                                                             lization[0][0]']              \n",
      "                                                                                                  \n",
      " convnext_large_stage_0_blo  (None, 56, 56, 192)          9600      ['convnext_large_stem[0][0]'] \n",
      " ck_0_depthwise_conv (Conv2                                                                       \n",
      " D)                                                                                               \n",
      "                                                                                                  \n",
      " convnext_large_stage_0_blo  (None, 56, 56, 192)          384       ['convnext_large_stage_0_block\n",
      " ck_0_layernorm (LayerNorma                                         _0_depthwise_conv[0][0]']     \n",
      " lization)                                                                                        \n",
      "                                                                                                  \n",
      " convnext_large_stage_0_blo  (None, 56, 56, 768)          148224    ['convnext_large_stage_0_block\n",
      " ck_0_pointwise_conv_1 (Den                                         _0_layernorm[0][0]']          \n",
      " se)                                                                                              \n",
      "                                                                                                  \n",
      " convnext_large_stage_0_blo  (None, 56, 56, 768)          0         ['convnext_large_stage_0_block\n",
      " ck_0_gelu (Activation)                                             _0_pointwise_conv_1[0][0]']   \n",
      "                                                                                                  \n",
      " convnext_large_stage_0_blo  (None, 56, 56, 192)          147648    ['convnext_large_stage_0_block\n",
      " ck_0_pointwise_conv_2 (Den                                         _0_gelu[0][0]']               \n",
      " se)                                                                                              \n",
      "                                                                                                  \n",
      " convnext_large_stage_0_blo  (None, 56, 56, 192)          192       ['convnext_large_stage_0_block\n",
      " ck_0_layer_scale (LayerSca                                         _0_pointwise_conv_2[0][0]']   \n",
      " le)                                                                                              \n",
      "                                                                                                  \n",
      " convnext_large_stage_0_blo  (None, 56, 56, 192)          0         ['convnext_large_stage_0_block\n",
      " ck_0_identity (Activation)                                         _0_layer_scale[0][0]']        \n",
      "                                                                                                  \n",
      " tf.__operators__.add (TFOp  (None, 56, 56, 192)          0         ['convnext_large_stem[0][0]', \n",
      " Lambda)                                                             'convnext_large_stage_0_block\n",
      "                                                                    _0_identity[0][0]']           \n",
      "                                                                                                  \n",
      " convnext_large_stage_0_blo  (None, 56, 56, 192)          9600      ['tf.__operators__.add[0][0]']\n",
      " ck_1_depthwise_conv (Conv2                                                                       \n",
      " D)                                                                                               \n",
      "                                                                                                  \n",
      " convnext_large_stage_0_blo  (None, 56, 56, 192)          384       ['convnext_large_stage_0_block\n",
      " ck_1_layernorm (LayerNorma                                         _1_depthwise_conv[0][0]']     \n",
      " lization)                                                                                        \n",
      "                                                                                                  \n",
      " convnext_large_stage_0_blo  (None, 56, 56, 768)          148224    ['convnext_large_stage_0_block\n",
      " ck_1_pointwise_conv_1 (Den                                         _1_layernorm[0][0]']          \n",
      " se)                                                                                              \n",
      "                                                                                                  \n",
      " convnext_large_stage_0_blo  (None, 56, 56, 768)          0         ['convnext_large_stage_0_block\n",
      " ck_1_gelu (Activation)                                             _1_pointwise_conv_1[0][0]']   \n",
      "                                                                                                  \n",
      " convnext_large_stage_0_blo  (None, 56, 56, 192)          147648    ['convnext_large_stage_0_block\n",
      " ck_1_pointwise_conv_2 (Den                                         _1_gelu[0][0]']               \n",
      " se)                                                                                              \n",
      "                                                                                                  \n",
      " convnext_large_stage_0_blo  (None, 56, 56, 192)          192       ['convnext_large_stage_0_block\n",
      " ck_1_layer_scale (LayerSca                                         _1_pointwise_conv_2[0][0]']   \n",
      " le)                                                                                              \n",
      "                                                                                                  \n",
      " convnext_large_stage_0_blo  (None, 56, 56, 192)          0         ['convnext_large_stage_0_block\n",
      " ck_1_identity (Activation)                                         _1_layer_scale[0][0]']        \n",
      "                                                                                                  \n",
      " tf.__operators__.add_1 (TF  (None, 56, 56, 192)          0         ['tf.__operators__.add[0][0]',\n",
      " OpLambda)                                                           'convnext_large_stage_0_block\n",
      "                                                                    _1_identity[0][0]']           \n",
      "                                                                                                  \n",
      " convnext_large_stage_0_blo  (None, 56, 56, 192)          9600      ['tf.__operators__.add_1[0][0]\n",
      " ck_2_depthwise_conv (Conv2                                         ']                            \n",
      " D)                                                                                               \n",
      "                                                                                                  \n",
      " convnext_large_stage_0_blo  (None, 56, 56, 192)          384       ['convnext_large_stage_0_block\n",
      " ck_2_layernorm (LayerNorma                                         _2_depthwise_conv[0][0]']     \n",
      " lization)                                                                                        \n",
      "                                                                                                  \n",
      " convnext_large_stage_0_blo  (None, 56, 56, 768)          148224    ['convnext_large_stage_0_block\n",
      " ck_2_pointwise_conv_1 (Den                                         _2_layernorm[0][0]']          \n",
      " se)                                                                                              \n",
      "                                                                                                  \n",
      " convnext_large_stage_0_blo  (None, 56, 56, 768)          0         ['convnext_large_stage_0_block\n",
      " ck_2_gelu (Activation)                                             _2_pointwise_conv_1[0][0]']   \n",
      "                                                                                                  \n",
      " convnext_large_stage_0_blo  (None, 56, 56, 192)          147648    ['convnext_large_stage_0_block\n",
      " ck_2_pointwise_conv_2 (Den                                         _2_gelu[0][0]']               \n",
      " se)                                                                                              \n",
      "                                                                                                  \n",
      " convnext_large_stage_0_blo  (None, 56, 56, 192)          192       ['convnext_large_stage_0_block\n",
      " ck_2_layer_scale (LayerSca                                         _2_pointwise_conv_2[0][0]']   \n",
      " le)                                                                                              \n",
      "                                                                                                  \n",
      " convnext_large_stage_0_blo  (None, 56, 56, 192)          0         ['convnext_large_stage_0_block\n",
      " ck_2_identity (Activation)                                         _2_layer_scale[0][0]']        \n",
      "                                                                                                  \n",
      " tf.__operators__.add_2 (TF  (None, 56, 56, 192)          0         ['tf.__operators__.add_1[0][0]\n",
      " OpLambda)                                                          ',                            \n",
      "                                                                     'convnext_large_stage_0_block\n",
      "                                                                    _2_identity[0][0]']           \n",
      "                                                                                                  \n",
      " convnext_large_downsamplin  (None, 28, 28, 384)          295680    ['tf.__operators__.add_2[0][0]\n",
      " g_block_0 (Sequential)                                             ']                            \n",
      "                                                                                                  \n",
      " convnext_large_stage_1_blo  (None, 28, 28, 384)          19200     ['convnext_large_downsampling_\n",
      " ck_0_depthwise_conv (Conv2                                         block_0[0][0]']               \n",
      " D)                                                                                               \n",
      "                                                                                                  \n",
      " convnext_large_stage_1_blo  (None, 28, 28, 384)          768       ['convnext_large_stage_1_block\n",
      " ck_0_layernorm (LayerNorma                                         _0_depthwise_conv[0][0]']     \n",
      " lization)                                                                                        \n",
      "                                                                                                  \n",
      " convnext_large_stage_1_blo  (None, 28, 28, 1536)         591360    ['convnext_large_stage_1_block\n",
      " ck_0_pointwise_conv_1 (Den                                         _0_layernorm[0][0]']          \n",
      " se)                                                                                              \n",
      "                                                                                                  \n",
      " convnext_large_stage_1_blo  (None, 28, 28, 1536)         0         ['convnext_large_stage_1_block\n",
      " ck_0_gelu (Activation)                                             _0_pointwise_conv_1[0][0]']   \n",
      "                                                                                                  \n",
      " convnext_large_stage_1_blo  (None, 28, 28, 384)          590208    ['convnext_large_stage_1_block\n",
      " ck_0_pointwise_conv_2 (Den                                         _0_gelu[0][0]']               \n",
      " se)                                                                                              \n",
      "                                                                                                  \n",
      " convnext_large_stage_1_blo  (None, 28, 28, 384)          384       ['convnext_large_stage_1_block\n",
      " ck_0_layer_scale (LayerSca                                         _0_pointwise_conv_2[0][0]']   \n",
      " le)                                                                                              \n",
      "                                                                                                  \n",
      " convnext_large_stage_1_blo  (None, 28, 28, 384)          0         ['convnext_large_stage_1_block\n",
      " ck_0_identity (Activation)                                         _0_layer_scale[0][0]']        \n",
      "                                                                                                  \n",
      " tf.__operators__.add_3 (TF  (None, 28, 28, 384)          0         ['convnext_large_downsampling_\n",
      " OpLambda)                                                          block_0[0][0]',               \n",
      "                                                                     'convnext_large_stage_1_block\n",
      "                                                                    _0_identity[0][0]']           \n",
      "                                                                                                  \n",
      " convnext_large_stage_1_blo  (None, 28, 28, 384)          19200     ['tf.__operators__.add_3[0][0]\n",
      " ck_1_depthwise_conv (Conv2                                         ']                            \n",
      " D)                                                                                               \n",
      "                                                                                                  \n",
      " convnext_large_stage_1_blo  (None, 28, 28, 384)          768       ['convnext_large_stage_1_block\n",
      " ck_1_layernorm (LayerNorma                                         _1_depthwise_conv[0][0]']     \n",
      " lization)                                                                                        \n",
      "                                                                                                  \n",
      " convnext_large_stage_1_blo  (None, 28, 28, 1536)         591360    ['convnext_large_stage_1_block\n",
      " ck_1_pointwise_conv_1 (Den                                         _1_layernorm[0][0]']          \n",
      " se)                                                                                              \n",
      "                                                                                                  \n",
      " convnext_large_stage_1_blo  (None, 28, 28, 1536)         0         ['convnext_large_stage_1_block\n",
      " ck_1_gelu (Activation)                                             _1_pointwise_conv_1[0][0]']   \n",
      "                                                                                                  \n",
      " convnext_large_stage_1_blo  (None, 28, 28, 384)          590208    ['convnext_large_stage_1_block\n",
      " ck_1_pointwise_conv_2 (Den                                         _1_gelu[0][0]']               \n",
      " se)                                                                                              \n",
      "                                                                                                  \n",
      " convnext_large_stage_1_blo  (None, 28, 28, 384)          384       ['convnext_large_stage_1_block\n",
      " ck_1_layer_scale (LayerSca                                         _1_pointwise_conv_2[0][0]']   \n",
      " le)                                                                                              \n",
      "                                                                                                  \n",
      " convnext_large_stage_1_blo  (None, 28, 28, 384)          0         ['convnext_large_stage_1_block\n",
      " ck_1_identity (Activation)                                         _1_layer_scale[0][0]']        \n",
      "                                                                                                  \n",
      " tf.__operators__.add_4 (TF  (None, 28, 28, 384)          0         ['tf.__operators__.add_3[0][0]\n",
      " OpLambda)                                                          ',                            \n",
      "                                                                     'convnext_large_stage_1_block\n",
      "                                                                    _1_identity[0][0]']           \n",
      "                                                                                                  \n",
      " convnext_large_stage_1_blo  (None, 28, 28, 384)          19200     ['tf.__operators__.add_4[0][0]\n",
      " ck_2_depthwise_conv (Conv2                                         ']                            \n",
      " D)                                                                                               \n",
      "                                                                                                  \n",
      " convnext_large_stage_1_blo  (None, 28, 28, 384)          768       ['convnext_large_stage_1_block\n",
      " ck_2_layernorm (LayerNorma                                         _2_depthwise_conv[0][0]']     \n",
      " lization)                                                                                        \n",
      "                                                                                                  \n",
      " convnext_large_stage_1_blo  (None, 28, 28, 1536)         591360    ['convnext_large_stage_1_block\n",
      " ck_2_pointwise_conv_1 (Den                                         _2_layernorm[0][0]']          \n",
      " se)                                                                                              \n",
      "                                                                                                  \n",
      " convnext_large_stage_1_blo  (None, 28, 28, 1536)         0         ['convnext_large_stage_1_block\n",
      " ck_2_gelu (Activation)                                             _2_pointwise_conv_1[0][0]']   \n",
      "                                                                                                  \n",
      " convnext_large_stage_1_blo  (None, 28, 28, 384)          590208    ['convnext_large_stage_1_block\n",
      " ck_2_pointwise_conv_2 (Den                                         _2_gelu[0][0]']               \n",
      " se)                                                                                              \n",
      "                                                                                                  \n",
      " convnext_large_stage_1_blo  (None, 28, 28, 384)          384       ['convnext_large_stage_1_block\n",
      " ck_2_layer_scale (LayerSca                                         _2_pointwise_conv_2[0][0]']   \n",
      " le)                                                                                              \n",
      "                                                                                                  \n",
      " convnext_large_stage_1_blo  (None, 28, 28, 384)          0         ['convnext_large_stage_1_block\n",
      " ck_2_identity (Activation)                                         _2_layer_scale[0][0]']        \n",
      "                                                                                                  \n",
      " tf.__operators__.add_5 (TF  (None, 28, 28, 384)          0         ['tf.__operators__.add_4[0][0]\n",
      " OpLambda)                                                          ',                            \n",
      "                                                                     'convnext_large_stage_1_block\n",
      "                                                                    _2_identity[0][0]']           \n",
      "                                                                                                  \n",
      " convnext_large_downsamplin  (None, 14, 14, 768)          1181184   ['tf.__operators__.add_5[0][0]\n",
      " g_block_1 (Sequential)                                             ']                            \n",
      "                                                                                                  \n",
      " convnext_large_stage_2_blo  (None, 14, 14, 768)          38400     ['convnext_large_downsampling_\n",
      " ck_0_depthwise_conv (Conv2                                         block_1[0][0]']               \n",
      " D)                                                                                               \n",
      "                                                                                                  \n",
      " convnext_large_stage_2_blo  (None, 14, 14, 768)          1536      ['convnext_large_stage_2_block\n",
      " ck_0_layernorm (LayerNorma                                         _0_depthwise_conv[0][0]']     \n",
      " lization)                                                                                        \n",
      "                                                                                                  \n",
      " convnext_large_stage_2_blo  (None, 14, 14, 3072)         2362368   ['convnext_large_stage_2_block\n",
      " ck_0_pointwise_conv_1 (Den                                         _0_layernorm[0][0]']          \n",
      " se)                                                                                              \n",
      "                                                                                                  \n",
      " convnext_large_stage_2_blo  (None, 14, 14, 3072)         0         ['convnext_large_stage_2_block\n",
      " ck_0_gelu (Activation)                                             _0_pointwise_conv_1[0][0]']   \n",
      "                                                                                                  \n",
      " convnext_large_stage_2_blo  (None, 14, 14, 768)          2360064   ['convnext_large_stage_2_block\n",
      " ck_0_pointwise_conv_2 (Den                                         _0_gelu[0][0]']               \n",
      " se)                                                                                              \n",
      "                                                                                                  \n",
      " convnext_large_stage_2_blo  (None, 14, 14, 768)          768       ['convnext_large_stage_2_block\n",
      " ck_0_layer_scale (LayerSca                                         _0_pointwise_conv_2[0][0]']   \n",
      " le)                                                                                              \n",
      "                                                                                                  \n",
      " convnext_large_stage_2_blo  (None, 14, 14, 768)          0         ['convnext_large_stage_2_block\n",
      " ck_0_identity (Activation)                                         _0_layer_scale[0][0]']        \n",
      "                                                                                                  \n",
      " tf.__operators__.add_6 (TF  (None, 14, 14, 768)          0         ['convnext_large_downsampling_\n",
      " OpLambda)                                                          block_1[0][0]',               \n",
      "                                                                     'convnext_large_stage_2_block\n",
      "                                                                    _0_identity[0][0]']           \n",
      "                                                                                                  \n",
      " convnext_large_stage_2_blo  (None, 14, 14, 768)          38400     ['tf.__operators__.add_6[0][0]\n",
      " ck_1_depthwise_conv (Conv2                                         ']                            \n",
      " D)                                                                                               \n",
      "                                                                                                  \n",
      " convnext_large_stage_2_blo  (None, 14, 14, 768)          1536      ['convnext_large_stage_2_block\n",
      " ck_1_layernorm (LayerNorma                                         _1_depthwise_conv[0][0]']     \n",
      " lization)                                                                                        \n",
      "                                                                                                  \n",
      " convnext_large_stage_2_blo  (None, 14, 14, 3072)         2362368   ['convnext_large_stage_2_block\n",
      " ck_1_pointwise_conv_1 (Den                                         _1_layernorm[0][0]']          \n",
      " se)                                                                                              \n",
      "                                                                                                  \n",
      " convnext_large_stage_2_blo  (None, 14, 14, 3072)         0         ['convnext_large_stage_2_block\n",
      " ck_1_gelu (Activation)                                             _1_pointwise_conv_1[0][0]']   \n",
      "                                                                                                  \n",
      " convnext_large_stage_2_blo  (None, 14, 14, 768)          2360064   ['convnext_large_stage_2_block\n",
      " ck_1_pointwise_conv_2 (Den                                         _1_gelu[0][0]']               \n",
      " se)                                                                                              \n",
      "                                                                                                  \n",
      " convnext_large_stage_2_blo  (None, 14, 14, 768)          768       ['convnext_large_stage_2_block\n",
      " ck_1_layer_scale (LayerSca                                         _1_pointwise_conv_2[0][0]']   \n",
      " le)                                                                                              \n",
      "                                                                                                  \n",
      " convnext_large_stage_2_blo  (None, 14, 14, 768)          0         ['convnext_large_stage_2_block\n",
      " ck_1_identity (Activation)                                         _1_layer_scale[0][0]']        \n",
      "                                                                                                  \n",
      " tf.__operators__.add_7 (TF  (None, 14, 14, 768)          0         ['tf.__operators__.add_6[0][0]\n",
      " OpLambda)                                                          ',                            \n",
      "                                                                     'convnext_large_stage_2_block\n",
      "                                                                    _1_identity[0][0]']           \n",
      "                                                                                                  \n",
      " convnext_large_stage_2_blo  (None, 14, 14, 768)          38400     ['tf.__operators__.add_7[0][0]\n",
      " ck_2_depthwise_conv (Conv2                                         ']                            \n",
      " D)                                                                                               \n",
      "                                                                                                  \n",
      " convnext_large_stage_2_blo  (None, 14, 14, 768)          1536      ['convnext_large_stage_2_block\n",
      " ck_2_layernorm (LayerNorma                                         _2_depthwise_conv[0][0]']     \n",
      " lization)                                                                                        \n",
      "                                                                                                  \n",
      " convnext_large_stage_2_blo  (None, 14, 14, 3072)         2362368   ['convnext_large_stage_2_block\n",
      " ck_2_pointwise_conv_1 (Den                                         _2_layernorm[0][0]']          \n",
      " se)                                                                                              \n",
      "                                                                                                  \n",
      " convnext_large_stage_2_blo  (None, 14, 14, 3072)         0         ['convnext_large_stage_2_block\n",
      " ck_2_gelu (Activation)                                             _2_pointwise_conv_1[0][0]']   \n",
      "                                                                                                  \n",
      " convnext_large_stage_2_blo  (None, 14, 14, 768)          2360064   ['convnext_large_stage_2_block\n",
      " ck_2_pointwise_conv_2 (Den                                         _2_gelu[0][0]']               \n",
      " se)                                                                                              \n",
      "                                                                                                  \n",
      " convnext_large_stage_2_blo  (None, 14, 14, 768)          768       ['convnext_large_stage_2_block\n",
      " ck_2_layer_scale (LayerSca                                         _2_pointwise_conv_2[0][0]']   \n",
      " le)                                                                                              \n",
      "                                                                                                  \n",
      " convnext_large_stage_2_blo  (None, 14, 14, 768)          0         ['convnext_large_stage_2_block\n",
      " ck_2_identity (Activation)                                         _2_layer_scale[0][0]']        \n",
      "                                                                                                  \n",
      " tf.__operators__.add_8 (TF  (None, 14, 14, 768)          0         ['tf.__operators__.add_7[0][0]\n",
      " OpLambda)                                                          ',                            \n",
      "                                                                     'convnext_large_stage_2_block\n",
      "                                                                    _2_identity[0][0]']           \n",
      "                                                                                                  \n",
      " convnext_large_stage_2_blo  (None, 14, 14, 768)          38400     ['tf.__operators__.add_8[0][0]\n",
      " ck_3_depthwise_conv (Conv2                                         ']                            \n",
      " D)                                                                                               \n",
      "                                                                                                  \n",
      " convnext_large_stage_2_blo  (None, 14, 14, 768)          1536      ['convnext_large_stage_2_block\n",
      " ck_3_layernorm (LayerNorma                                         _3_depthwise_conv[0][0]']     \n",
      " lization)                                                                                        \n",
      "                                                                                                  \n",
      " convnext_large_stage_2_blo  (None, 14, 14, 3072)         2362368   ['convnext_large_stage_2_block\n",
      " ck_3_pointwise_conv_1 (Den                                         _3_layernorm[0][0]']          \n",
      " se)                                                                                              \n",
      "                                                                                                  \n",
      " convnext_large_stage_2_blo  (None, 14, 14, 3072)         0         ['convnext_large_stage_2_block\n",
      " ck_3_gelu (Activation)                                             _3_pointwise_conv_1[0][0]']   \n",
      "                                                                                                  \n",
      " convnext_large_stage_2_blo  (None, 14, 14, 768)          2360064   ['convnext_large_stage_2_block\n",
      " ck_3_pointwise_conv_2 (Den                                         _3_gelu[0][0]']               \n",
      " se)                                                                                              \n",
      "                                                                                                  \n",
      " convnext_large_stage_2_blo  (None, 14, 14, 768)          768       ['convnext_large_stage_2_block\n",
      " ck_3_layer_scale (LayerSca                                         _3_pointwise_conv_2[0][0]']   \n",
      " le)                                                                                              \n",
      "                                                                                                  \n",
      " convnext_large_stage_2_blo  (None, 14, 14, 768)          0         ['convnext_large_stage_2_block\n",
      " ck_3_identity (Activation)                                         _3_layer_scale[0][0]']        \n",
      "                                                                                                  \n",
      " tf.__operators__.add_9 (TF  (None, 14, 14, 768)          0         ['tf.__operators__.add_8[0][0]\n",
      " OpLambda)                                                          ',                            \n",
      "                                                                     'convnext_large_stage_2_block\n",
      "                                                                    _3_identity[0][0]']           \n",
      "                                                                                                  \n",
      " convnext_large_stage_2_blo  (None, 14, 14, 768)          38400     ['tf.__operators__.add_9[0][0]\n",
      " ck_4_depthwise_conv (Conv2                                         ']                            \n",
      " D)                                                                                               \n",
      "                                                                                                  \n",
      " convnext_large_stage_2_blo  (None, 14, 14, 768)          1536      ['convnext_large_stage_2_block\n",
      " ck_4_layernorm (LayerNorma                                         _4_depthwise_conv[0][0]']     \n",
      " lization)                                                                                        \n",
      "                                                                                                  \n",
      " convnext_large_stage_2_blo  (None, 14, 14, 3072)         2362368   ['convnext_large_stage_2_block\n",
      " ck_4_pointwise_conv_1 (Den                                         _4_layernorm[0][0]']          \n",
      " se)                                                                                              \n",
      "                                                                                                  \n",
      " convnext_large_stage_2_blo  (None, 14, 14, 3072)         0         ['convnext_large_stage_2_block\n",
      " ck_4_gelu (Activation)                                             _4_pointwise_conv_1[0][0]']   \n",
      "                                                                                                  \n",
      " convnext_large_stage_2_blo  (None, 14, 14, 768)          2360064   ['convnext_large_stage_2_block\n",
      " ck_4_pointwise_conv_2 (Den                                         _4_gelu[0][0]']               \n",
      " se)                                                                                              \n",
      "                                                                                                  \n",
      " convnext_large_stage_2_blo  (None, 14, 14, 768)          768       ['convnext_large_stage_2_block\n",
      " ck_4_layer_scale (LayerSca                                         _4_pointwise_conv_2[0][0]']   \n",
      " le)                                                                                              \n",
      "                                                                                                  \n",
      " convnext_large_stage_2_blo  (None, 14, 14, 768)          0         ['convnext_large_stage_2_block\n",
      " ck_4_identity (Activation)                                         _4_layer_scale[0][0]']        \n",
      "                                                                                                  \n",
      " tf.__operators__.add_10 (T  (None, 14, 14, 768)          0         ['tf.__operators__.add_9[0][0]\n",
      " FOpLambda)                                                         ',                            \n",
      "                                                                     'convnext_large_stage_2_block\n",
      "                                                                    _4_identity[0][0]']           \n",
      "                                                                                                  \n",
      " convnext_large_stage_2_blo  (None, 14, 14, 768)          38400     ['tf.__operators__.add_10[0][0\n",
      " ck_5_depthwise_conv (Conv2                                         ]']                           \n",
      " D)                                                                                               \n",
      "                                                                                                  \n",
      " convnext_large_stage_2_blo  (None, 14, 14, 768)          1536      ['convnext_large_stage_2_block\n",
      " ck_5_layernorm (LayerNorma                                         _5_depthwise_conv[0][0]']     \n",
      " lization)                                                                                        \n",
      "                                                                                                  \n",
      " convnext_large_stage_2_blo  (None, 14, 14, 3072)         2362368   ['convnext_large_stage_2_block\n",
      " ck_5_pointwise_conv_1 (Den                                         _5_layernorm[0][0]']          \n",
      " se)                                                                                              \n",
      "                                                                                                  \n",
      " convnext_large_stage_2_blo  (None, 14, 14, 3072)         0         ['convnext_large_stage_2_block\n",
      " ck_5_gelu (Activation)                                             _5_pointwise_conv_1[0][0]']   \n",
      "                                                                                                  \n",
      " convnext_large_stage_2_blo  (None, 14, 14, 768)          2360064   ['convnext_large_stage_2_block\n",
      " ck_5_pointwise_conv_2 (Den                                         _5_gelu[0][0]']               \n",
      " se)                                                                                              \n",
      "                                                                                                  \n",
      " convnext_large_stage_2_blo  (None, 14, 14, 768)          768       ['convnext_large_stage_2_block\n",
      " ck_5_layer_scale (LayerSca                                         _5_pointwise_conv_2[0][0]']   \n",
      " le)                                                                                              \n",
      "                                                                                                  \n",
      " convnext_large_stage_2_blo  (None, 14, 14, 768)          0         ['convnext_large_stage_2_block\n",
      " ck_5_identity (Activation)                                         _5_layer_scale[0][0]']        \n",
      "                                                                                                  \n",
      " tf.__operators__.add_11 (T  (None, 14, 14, 768)          0         ['tf.__operators__.add_10[0][0\n",
      " FOpLambda)                                                         ]',                           \n",
      "                                                                     'convnext_large_stage_2_block\n",
      "                                                                    _5_identity[0][0]']           \n",
      "                                                                                                  \n",
      " convnext_large_stage_2_blo  (None, 14, 14, 768)          38400     ['tf.__operators__.add_11[0][0\n",
      " ck_6_depthwise_conv (Conv2                                         ]']                           \n",
      " D)                                                                                               \n",
      "                                                                                                  \n",
      " convnext_large_stage_2_blo  (None, 14, 14, 768)          1536      ['convnext_large_stage_2_block\n",
      " ck_6_layernorm (LayerNorma                                         _6_depthwise_conv[0][0]']     \n",
      " lization)                                                                                        \n",
      "                                                                                                  \n",
      " convnext_large_stage_2_blo  (None, 14, 14, 3072)         2362368   ['convnext_large_stage_2_block\n",
      " ck_6_pointwise_conv_1 (Den                                         _6_layernorm[0][0]']          \n",
      " se)                                                                                              \n",
      "                                                                                                  \n",
      " convnext_large_stage_2_blo  (None, 14, 14, 3072)         0         ['convnext_large_stage_2_block\n",
      " ck_6_gelu (Activation)                                             _6_pointwise_conv_1[0][0]']   \n",
      "                                                                                                  \n",
      " convnext_large_stage_2_blo  (None, 14, 14, 768)          2360064   ['convnext_large_stage_2_block\n",
      " ck_6_pointwise_conv_2 (Den                                         _6_gelu[0][0]']               \n",
      " se)                                                                                              \n",
      "                                                                                                  \n",
      " convnext_large_stage_2_blo  (None, 14, 14, 768)          768       ['convnext_large_stage_2_block\n",
      " ck_6_layer_scale (LayerSca                                         _6_pointwise_conv_2[0][0]']   \n",
      " le)                                                                                              \n",
      "                                                                                                  \n",
      " convnext_large_stage_2_blo  (None, 14, 14, 768)          0         ['convnext_large_stage_2_block\n",
      " ck_6_identity (Activation)                                         _6_layer_scale[0][0]']        \n",
      "                                                                                                  \n",
      " tf.__operators__.add_12 (T  (None, 14, 14, 768)          0         ['tf.__operators__.add_11[0][0\n",
      " FOpLambda)                                                         ]',                           \n",
      "                                                                     'convnext_large_stage_2_block\n",
      "                                                                    _6_identity[0][0]']           \n",
      "                                                                                                  \n",
      " convnext_large_stage_2_blo  (None, 14, 14, 768)          38400     ['tf.__operators__.add_12[0][0\n",
      " ck_7_depthwise_conv (Conv2                                         ]']                           \n",
      " D)                                                                                               \n",
      "                                                                                                  \n",
      " convnext_large_stage_2_blo  (None, 14, 14, 768)          1536      ['convnext_large_stage_2_block\n",
      " ck_7_layernorm (LayerNorma                                         _7_depthwise_conv[0][0]']     \n",
      " lization)                                                                                        \n",
      "                                                                                                  \n",
      " convnext_large_stage_2_blo  (None, 14, 14, 3072)         2362368   ['convnext_large_stage_2_block\n",
      " ck_7_pointwise_conv_1 (Den                                         _7_layernorm[0][0]']          \n",
      " se)                                                                                              \n",
      "                                                                                                  \n",
      " convnext_large_stage_2_blo  (None, 14, 14, 3072)         0         ['convnext_large_stage_2_block\n",
      " ck_7_gelu (Activation)                                             _7_pointwise_conv_1[0][0]']   \n",
      "                                                                                                  \n",
      " convnext_large_stage_2_blo  (None, 14, 14, 768)          2360064   ['convnext_large_stage_2_block\n",
      " ck_7_pointwise_conv_2 (Den                                         _7_gelu[0][0]']               \n",
      " se)                                                                                              \n",
      "                                                                                                  \n",
      " convnext_large_stage_2_blo  (None, 14, 14, 768)          768       ['convnext_large_stage_2_block\n",
      " ck_7_layer_scale (LayerSca                                         _7_pointwise_conv_2[0][0]']   \n",
      " le)                                                                                              \n",
      "                                                                                                  \n",
      " convnext_large_stage_2_blo  (None, 14, 14, 768)          0         ['convnext_large_stage_2_block\n",
      " ck_7_identity (Activation)                                         _7_layer_scale[0][0]']        \n",
      "                                                                                                  \n",
      " tf.__operators__.add_13 (T  (None, 14, 14, 768)          0         ['tf.__operators__.add_12[0][0\n",
      " FOpLambda)                                                         ]',                           \n",
      "                                                                     'convnext_large_stage_2_block\n",
      "                                                                    _7_identity[0][0]']           \n",
      "                                                                                                  \n",
      " convnext_large_stage_2_blo  (None, 14, 14, 768)          38400     ['tf.__operators__.add_13[0][0\n",
      " ck_8_depthwise_conv (Conv2                                         ]']                           \n",
      " D)                                                                                               \n",
      "                                                                                                  \n",
      " convnext_large_stage_2_blo  (None, 14, 14, 768)          1536      ['convnext_large_stage_2_block\n",
      " ck_8_layernorm (LayerNorma                                         _8_depthwise_conv[0][0]']     \n",
      " lization)                                                                                        \n",
      "                                                                                                  \n",
      " convnext_large_stage_2_blo  (None, 14, 14, 3072)         2362368   ['convnext_large_stage_2_block\n",
      " ck_8_pointwise_conv_1 (Den                                         _8_layernorm[0][0]']          \n",
      " se)                                                                                              \n",
      "                                                                                                  \n",
      " convnext_large_stage_2_blo  (None, 14, 14, 3072)         0         ['convnext_large_stage_2_block\n",
      " ck_8_gelu (Activation)                                             _8_pointwise_conv_1[0][0]']   \n",
      "                                                                                                  \n",
      " convnext_large_stage_2_blo  (None, 14, 14, 768)          2360064   ['convnext_large_stage_2_block\n",
      " ck_8_pointwise_conv_2 (Den                                         _8_gelu[0][0]']               \n",
      " se)                                                                                              \n",
      "                                                                                                  \n",
      " convnext_large_stage_2_blo  (None, 14, 14, 768)          768       ['convnext_large_stage_2_block\n",
      " ck_8_layer_scale (LayerSca                                         _8_pointwise_conv_2[0][0]']   \n",
      " le)                                                                                              \n",
      "                                                                                                  \n",
      " convnext_large_stage_2_blo  (None, 14, 14, 768)          0         ['convnext_large_stage_2_block\n",
      " ck_8_identity (Activation)                                         _8_layer_scale[0][0]']        \n",
      "                                                                                                  \n",
      " tf.__operators__.add_14 (T  (None, 14, 14, 768)          0         ['tf.__operators__.add_13[0][0\n",
      " FOpLambda)                                                         ]',                           \n",
      "                                                                     'convnext_large_stage_2_block\n",
      "                                                                    _8_identity[0][0]']           \n",
      "                                                                                                  \n",
      " convnext_large_stage_2_blo  (None, 14, 14, 768)          38400     ['tf.__operators__.add_14[0][0\n",
      " ck_9_depthwise_conv (Conv2                                         ]']                           \n",
      " D)                                                                                               \n",
      "                                                                                                  \n",
      " convnext_large_stage_2_blo  (None, 14, 14, 768)          1536      ['convnext_large_stage_2_block\n",
      " ck_9_layernorm (LayerNorma                                         _9_depthwise_conv[0][0]']     \n",
      " lization)                                                                                        \n",
      "                                                                                                  \n",
      " convnext_large_stage_2_blo  (None, 14, 14, 3072)         2362368   ['convnext_large_stage_2_block\n",
      " ck_9_pointwise_conv_1 (Den                                         _9_layernorm[0][0]']          \n",
      " se)                                                                                              \n",
      "                                                                                                  \n",
      " convnext_large_stage_2_blo  (None, 14, 14, 3072)         0         ['convnext_large_stage_2_block\n",
      " ck_9_gelu (Activation)                                             _9_pointwise_conv_1[0][0]']   \n",
      "                                                                                                  \n",
      " convnext_large_stage_2_blo  (None, 14, 14, 768)          2360064   ['convnext_large_stage_2_block\n",
      " ck_9_pointwise_conv_2 (Den                                         _9_gelu[0][0]']               \n",
      " se)                                                                                              \n",
      "                                                                                                  \n",
      " convnext_large_stage_2_blo  (None, 14, 14, 768)          768       ['convnext_large_stage_2_block\n",
      " ck_9_layer_scale (LayerSca                                         _9_pointwise_conv_2[0][0]']   \n",
      " le)                                                                                              \n",
      "                                                                                                  \n",
      " convnext_large_stage_2_blo  (None, 14, 14, 768)          0         ['convnext_large_stage_2_block\n",
      " ck_9_identity (Activation)                                         _9_layer_scale[0][0]']        \n",
      "                                                                                                  \n",
      " tf.__operators__.add_15 (T  (None, 14, 14, 768)          0         ['tf.__operators__.add_14[0][0\n",
      " FOpLambda)                                                         ]',                           \n",
      "                                                                     'convnext_large_stage_2_block\n",
      "                                                                    _9_identity[0][0]']           \n",
      "                                                                                                  \n",
      " convnext_large_stage_2_blo  (None, 14, 14, 768)          38400     ['tf.__operators__.add_15[0][0\n",
      " ck_10_depthwise_conv (Conv                                         ]']                           \n",
      " 2D)                                                                                              \n",
      "                                                                                                  \n",
      " convnext_large_stage_2_blo  (None, 14, 14, 768)          1536      ['convnext_large_stage_2_block\n",
      " ck_10_layernorm (LayerNorm                                         _10_depthwise_conv[0][0]']    \n",
      " alization)                                                                                       \n",
      "                                                                                                  \n",
      " convnext_large_stage_2_blo  (None, 14, 14, 3072)         2362368   ['convnext_large_stage_2_block\n",
      " ck_10_pointwise_conv_1 (De                                         _10_layernorm[0][0]']         \n",
      " nse)                                                                                             \n",
      "                                                                                                  \n",
      " convnext_large_stage_2_blo  (None, 14, 14, 3072)         0         ['convnext_large_stage_2_block\n",
      " ck_10_gelu (Activation)                                            _10_pointwise_conv_1[0][0]']  \n",
      "                                                                                                  \n",
      " convnext_large_stage_2_blo  (None, 14, 14, 768)          2360064   ['convnext_large_stage_2_block\n",
      " ck_10_pointwise_conv_2 (De                                         _10_gelu[0][0]']              \n",
      " nse)                                                                                             \n",
      "                                                                                                  \n",
      " convnext_large_stage_2_blo  (None, 14, 14, 768)          768       ['convnext_large_stage_2_block\n",
      " ck_10_layer_scale (LayerSc                                         _10_pointwise_conv_2[0][0]']  \n",
      " ale)                                                                                             \n",
      "                                                                                                  \n",
      " convnext_large_stage_2_blo  (None, 14, 14, 768)          0         ['convnext_large_stage_2_block\n",
      " ck_10_identity (Activation                                         _10_layer_scale[0][0]']       \n",
      " )                                                                                                \n",
      "                                                                                                  \n",
      " tf.__operators__.add_16 (T  (None, 14, 14, 768)          0         ['tf.__operators__.add_15[0][0\n",
      " FOpLambda)                                                         ]',                           \n",
      "                                                                     'convnext_large_stage_2_block\n",
      "                                                                    _10_identity[0][0]']          \n",
      "                                                                                                  \n",
      " convnext_large_stage_2_blo  (None, 14, 14, 768)          38400     ['tf.__operators__.add_16[0][0\n",
      " ck_11_depthwise_conv (Conv                                         ]']                           \n",
      " 2D)                                                                                              \n",
      "                                                                                                  \n",
      " convnext_large_stage_2_blo  (None, 14, 14, 768)          1536      ['convnext_large_stage_2_block\n",
      " ck_11_layernorm (LayerNorm                                         _11_depthwise_conv[0][0]']    \n",
      " alization)                                                                                       \n",
      "                                                                                                  \n",
      " convnext_large_stage_2_blo  (None, 14, 14, 3072)         2362368   ['convnext_large_stage_2_block\n",
      " ck_11_pointwise_conv_1 (De                                         _11_layernorm[0][0]']         \n",
      " nse)                                                                                             \n",
      "                                                                                                  \n",
      " convnext_large_stage_2_blo  (None, 14, 14, 3072)         0         ['convnext_large_stage_2_block\n",
      " ck_11_gelu (Activation)                                            _11_pointwise_conv_1[0][0]']  \n",
      "                                                                                                  \n",
      " convnext_large_stage_2_blo  (None, 14, 14, 768)          2360064   ['convnext_large_stage_2_block\n",
      " ck_11_pointwise_conv_2 (De                                         _11_gelu[0][0]']              \n",
      " nse)                                                                                             \n",
      "                                                                                                  \n",
      " convnext_large_stage_2_blo  (None, 14, 14, 768)          768       ['convnext_large_stage_2_block\n",
      " ck_11_layer_scale (LayerSc                                         _11_pointwise_conv_2[0][0]']  \n",
      " ale)                                                                                             \n",
      "                                                                                                  \n",
      " convnext_large_stage_2_blo  (None, 14, 14, 768)          0         ['convnext_large_stage_2_block\n",
      " ck_11_identity (Activation                                         _11_layer_scale[0][0]']       \n",
      " )                                                                                                \n",
      "                                                                                                  \n",
      " tf.__operators__.add_17 (T  (None, 14, 14, 768)          0         ['tf.__operators__.add_16[0][0\n",
      " FOpLambda)                                                         ]',                           \n",
      "                                                                     'convnext_large_stage_2_block\n",
      "                                                                    _11_identity[0][0]']          \n",
      "                                                                                                  \n",
      " convnext_large_stage_2_blo  (None, 14, 14, 768)          38400     ['tf.__operators__.add_17[0][0\n",
      " ck_12_depthwise_conv (Conv                                         ]']                           \n",
      " 2D)                                                                                              \n",
      "                                                                                                  \n",
      " convnext_large_stage_2_blo  (None, 14, 14, 768)          1536      ['convnext_large_stage_2_block\n",
      " ck_12_layernorm (LayerNorm                                         _12_depthwise_conv[0][0]']    \n",
      " alization)                                                                                       \n",
      "                                                                                                  \n",
      " convnext_large_stage_2_blo  (None, 14, 14, 3072)         2362368   ['convnext_large_stage_2_block\n",
      " ck_12_pointwise_conv_1 (De                                         _12_layernorm[0][0]']         \n",
      " nse)                                                                                             \n",
      "                                                                                                  \n",
      " convnext_large_stage_2_blo  (None, 14, 14, 3072)         0         ['convnext_large_stage_2_block\n",
      " ck_12_gelu (Activation)                                            _12_pointwise_conv_1[0][0]']  \n",
      "                                                                                                  \n",
      " convnext_large_stage_2_blo  (None, 14, 14, 768)          2360064   ['convnext_large_stage_2_block\n",
      " ck_12_pointwise_conv_2 (De                                         _12_gelu[0][0]']              \n",
      " nse)                                                                                             \n",
      "                                                                                                  \n",
      " convnext_large_stage_2_blo  (None, 14, 14, 768)          768       ['convnext_large_stage_2_block\n",
      " ck_12_layer_scale (LayerSc                                         _12_pointwise_conv_2[0][0]']  \n",
      " ale)                                                                                             \n",
      "                                                                                                  \n",
      " convnext_large_stage_2_blo  (None, 14, 14, 768)          0         ['convnext_large_stage_2_block\n",
      " ck_12_identity (Activation                                         _12_layer_scale[0][0]']       \n",
      " )                                                                                                \n",
      "                                                                                                  \n",
      " tf.__operators__.add_18 (T  (None, 14, 14, 768)          0         ['tf.__operators__.add_17[0][0\n",
      " FOpLambda)                                                         ]',                           \n",
      "                                                                     'convnext_large_stage_2_block\n",
      "                                                                    _12_identity[0][0]']          \n",
      "                                                                                                  \n",
      " convnext_large_stage_2_blo  (None, 14, 14, 768)          38400     ['tf.__operators__.add_18[0][0\n",
      " ck_13_depthwise_conv (Conv                                         ]']                           \n",
      " 2D)                                                                                              \n",
      "                                                                                                  \n",
      " convnext_large_stage_2_blo  (None, 14, 14, 768)          1536      ['convnext_large_stage_2_block\n",
      " ck_13_layernorm (LayerNorm                                         _13_depthwise_conv[0][0]']    \n",
      " alization)                                                                                       \n",
      "                                                                                                  \n",
      " convnext_large_stage_2_blo  (None, 14, 14, 3072)         2362368   ['convnext_large_stage_2_block\n",
      " ck_13_pointwise_conv_1 (De                                         _13_layernorm[0][0]']         \n",
      " nse)                                                                                             \n",
      "                                                                                                  \n",
      " convnext_large_stage_2_blo  (None, 14, 14, 3072)         0         ['convnext_large_stage_2_block\n",
      " ck_13_gelu (Activation)                                            _13_pointwise_conv_1[0][0]']  \n",
      "                                                                                                  \n",
      " convnext_large_stage_2_blo  (None, 14, 14, 768)          2360064   ['convnext_large_stage_2_block\n",
      " ck_13_pointwise_conv_2 (De                                         _13_gelu[0][0]']              \n",
      " nse)                                                                                             \n",
      "                                                                                                  \n",
      " convnext_large_stage_2_blo  (None, 14, 14, 768)          768       ['convnext_large_stage_2_block\n",
      " ck_13_layer_scale (LayerSc                                         _13_pointwise_conv_2[0][0]']  \n",
      " ale)                                                                                             \n",
      "                                                                                                  \n",
      " convnext_large_stage_2_blo  (None, 14, 14, 768)          0         ['convnext_large_stage_2_block\n",
      " ck_13_identity (Activation                                         _13_layer_scale[0][0]']       \n",
      " )                                                                                                \n",
      "                                                                                                  \n",
      " tf.__operators__.add_19 (T  (None, 14, 14, 768)          0         ['tf.__operators__.add_18[0][0\n",
      " FOpLambda)                                                         ]',                           \n",
      "                                                                     'convnext_large_stage_2_block\n",
      "                                                                    _13_identity[0][0]']          \n",
      "                                                                                                  \n",
      " convnext_large_stage_2_blo  (None, 14, 14, 768)          38400     ['tf.__operators__.add_19[0][0\n",
      " ck_14_depthwise_conv (Conv                                         ]']                           \n",
      " 2D)                                                                                              \n",
      "                                                                                                  \n",
      " convnext_large_stage_2_blo  (None, 14, 14, 768)          1536      ['convnext_large_stage_2_block\n",
      " ck_14_layernorm (LayerNorm                                         _14_depthwise_conv[0][0]']    \n",
      " alization)                                                                                       \n",
      "                                                                                                  \n",
      " convnext_large_stage_2_blo  (None, 14, 14, 3072)         2362368   ['convnext_large_stage_2_block\n",
      " ck_14_pointwise_conv_1 (De                                         _14_layernorm[0][0]']         \n",
      " nse)                                                                                             \n",
      "                                                                                                  \n",
      " convnext_large_stage_2_blo  (None, 14, 14, 3072)         0         ['convnext_large_stage_2_block\n",
      " ck_14_gelu (Activation)                                            _14_pointwise_conv_1[0][0]']  \n",
      "                                                                                                  \n",
      " convnext_large_stage_2_blo  (None, 14, 14, 768)          2360064   ['convnext_large_stage_2_block\n",
      " ck_14_pointwise_conv_2 (De                                         _14_gelu[0][0]']              \n",
      " nse)                                                                                             \n",
      "                                                                                                  \n",
      " convnext_large_stage_2_blo  (None, 14, 14, 768)          768       ['convnext_large_stage_2_block\n",
      " ck_14_layer_scale (LayerSc                                         _14_pointwise_conv_2[0][0]']  \n",
      " ale)                                                                                             \n",
      "                                                                                                  \n",
      " convnext_large_stage_2_blo  (None, 14, 14, 768)          0         ['convnext_large_stage_2_block\n",
      " ck_14_identity (Activation                                         _14_layer_scale[0][0]']       \n",
      " )                                                                                                \n",
      "                                                                                                  \n",
      " tf.__operators__.add_20 (T  (None, 14, 14, 768)          0         ['tf.__operators__.add_19[0][0\n",
      " FOpLambda)                                                         ]',                           \n",
      "                                                                     'convnext_large_stage_2_block\n",
      "                                                                    _14_identity[0][0]']          \n",
      "                                                                                                  \n",
      " convnext_large_stage_2_blo  (None, 14, 14, 768)          38400     ['tf.__operators__.add_20[0][0\n",
      " ck_15_depthwise_conv (Conv                                         ]']                           \n",
      " 2D)                                                                                              \n",
      "                                                                                                  \n",
      " convnext_large_stage_2_blo  (None, 14, 14, 768)          1536      ['convnext_large_stage_2_block\n",
      " ck_15_layernorm (LayerNorm                                         _15_depthwise_conv[0][0]']    \n",
      " alization)                                                                                       \n",
      "                                                                                                  \n",
      " convnext_large_stage_2_blo  (None, 14, 14, 3072)         2362368   ['convnext_large_stage_2_block\n",
      " ck_15_pointwise_conv_1 (De                                         _15_layernorm[0][0]']         \n",
      " nse)                                                                                             \n",
      "                                                                                                  \n",
      " convnext_large_stage_2_blo  (None, 14, 14, 3072)         0         ['convnext_large_stage_2_block\n",
      " ck_15_gelu (Activation)                                            _15_pointwise_conv_1[0][0]']  \n",
      "                                                                                                  \n",
      " convnext_large_stage_2_blo  (None, 14, 14, 768)          2360064   ['convnext_large_stage_2_block\n",
      " ck_15_pointwise_conv_2 (De                                         _15_gelu[0][0]']              \n",
      " nse)                                                                                             \n",
      "                                                                                                  \n",
      " convnext_large_stage_2_blo  (None, 14, 14, 768)          768       ['convnext_large_stage_2_block\n",
      " ck_15_layer_scale (LayerSc                                         _15_pointwise_conv_2[0][0]']  \n",
      " ale)                                                                                             \n",
      "                                                                                                  \n",
      " convnext_large_stage_2_blo  (None, 14, 14, 768)          0         ['convnext_large_stage_2_block\n",
      " ck_15_identity (Activation                                         _15_layer_scale[0][0]']       \n",
      " )                                                                                                \n",
      "                                                                                                  \n",
      " tf.__operators__.add_21 (T  (None, 14, 14, 768)          0         ['tf.__operators__.add_20[0][0\n",
      " FOpLambda)                                                         ]',                           \n",
      "                                                                     'convnext_large_stage_2_block\n",
      "                                                                    _15_identity[0][0]']          \n",
      "                                                                                                  \n",
      " convnext_large_stage_2_blo  (None, 14, 14, 768)          38400     ['tf.__operators__.add_21[0][0\n",
      " ck_16_depthwise_conv (Conv                                         ]']                           \n",
      " 2D)                                                                                              \n",
      "                                                                                                  \n",
      " convnext_large_stage_2_blo  (None, 14, 14, 768)          1536      ['convnext_large_stage_2_block\n",
      " ck_16_layernorm (LayerNorm                                         _16_depthwise_conv[0][0]']    \n",
      " alization)                                                                                       \n",
      "                                                                                                  \n",
      " convnext_large_stage_2_blo  (None, 14, 14, 3072)         2362368   ['convnext_large_stage_2_block\n",
      " ck_16_pointwise_conv_1 (De                                         _16_layernorm[0][0]']         \n",
      " nse)                                                                                             \n",
      "                                                                                                  \n",
      " convnext_large_stage_2_blo  (None, 14, 14, 3072)         0         ['convnext_large_stage_2_block\n",
      " ck_16_gelu (Activation)                                            _16_pointwise_conv_1[0][0]']  \n",
      "                                                                                                  \n",
      " convnext_large_stage_2_blo  (None, 14, 14, 768)          2360064   ['convnext_large_stage_2_block\n",
      " ck_16_pointwise_conv_2 (De                                         _16_gelu[0][0]']              \n",
      " nse)                                                                                             \n",
      "                                                                                                  \n",
      " convnext_large_stage_2_blo  (None, 14, 14, 768)          768       ['convnext_large_stage_2_block\n",
      " ck_16_layer_scale (LayerSc                                         _16_pointwise_conv_2[0][0]']  \n",
      " ale)                                                                                             \n",
      "                                                                                                  \n",
      " convnext_large_stage_2_blo  (None, 14, 14, 768)          0         ['convnext_large_stage_2_block\n",
      " ck_16_identity (Activation                                         _16_layer_scale[0][0]']       \n",
      " )                                                                                                \n",
      "                                                                                                  \n",
      " tf.__operators__.add_22 (T  (None, 14, 14, 768)          0         ['tf.__operators__.add_21[0][0\n",
      " FOpLambda)                                                         ]',                           \n",
      "                                                                     'convnext_large_stage_2_block\n",
      "                                                                    _16_identity[0][0]']          \n",
      "                                                                                                  \n",
      " convnext_large_stage_2_blo  (None, 14, 14, 768)          38400     ['tf.__operators__.add_22[0][0\n",
      " ck_17_depthwise_conv (Conv                                         ]']                           \n",
      " 2D)                                                                                              \n",
      "                                                                                                  \n",
      " convnext_large_stage_2_blo  (None, 14, 14, 768)          1536      ['convnext_large_stage_2_block\n",
      " ck_17_layernorm (LayerNorm                                         _17_depthwise_conv[0][0]']    \n",
      " alization)                                                                                       \n",
      "                                                                                                  \n",
      " convnext_large_stage_2_blo  (None, 14, 14, 3072)         2362368   ['convnext_large_stage_2_block\n",
      " ck_17_pointwise_conv_1 (De                                         _17_layernorm[0][0]']         \n",
      " nse)                                                                                             \n",
      "                                                                                                  \n",
      " convnext_large_stage_2_blo  (None, 14, 14, 3072)         0         ['convnext_large_stage_2_block\n",
      " ck_17_gelu (Activation)                                            _17_pointwise_conv_1[0][0]']  \n",
      "                                                                                                  \n",
      " convnext_large_stage_2_blo  (None, 14, 14, 768)          2360064   ['convnext_large_stage_2_block\n",
      " ck_17_pointwise_conv_2 (De                                         _17_gelu[0][0]']              \n",
      " nse)                                                                                             \n",
      "                                                                                                  \n",
      " convnext_large_stage_2_blo  (None, 14, 14, 768)          768       ['convnext_large_stage_2_block\n",
      " ck_17_layer_scale (LayerSc                                         _17_pointwise_conv_2[0][0]']  \n",
      " ale)                                                                                             \n",
      "                                                                                                  \n",
      " convnext_large_stage_2_blo  (None, 14, 14, 768)          0         ['convnext_large_stage_2_block\n",
      " ck_17_identity (Activation                                         _17_layer_scale[0][0]']       \n",
      " )                                                                                                \n",
      "                                                                                                  \n",
      " tf.__operators__.add_23 (T  (None, 14, 14, 768)          0         ['tf.__operators__.add_22[0][0\n",
      " FOpLambda)                                                         ]',                           \n",
      "                                                                     'convnext_large_stage_2_block\n",
      "                                                                    _17_identity[0][0]']          \n",
      "                                                                                                  \n",
      " convnext_large_stage_2_blo  (None, 14, 14, 768)          38400     ['tf.__operators__.add_23[0][0\n",
      " ck_18_depthwise_conv (Conv                                         ]']                           \n",
      " 2D)                                                                                              \n",
      "                                                                                                  \n",
      " convnext_large_stage_2_blo  (None, 14, 14, 768)          1536      ['convnext_large_stage_2_block\n",
      " ck_18_layernorm (LayerNorm                                         _18_depthwise_conv[0][0]']    \n",
      " alization)                                                                                       \n",
      "                                                                                                  \n",
      " convnext_large_stage_2_blo  (None, 14, 14, 3072)         2362368   ['convnext_large_stage_2_block\n",
      " ck_18_pointwise_conv_1 (De                                         _18_layernorm[0][0]']         \n",
      " nse)                                                                                             \n",
      "                                                                                                  \n",
      " convnext_large_stage_2_blo  (None, 14, 14, 3072)         0         ['convnext_large_stage_2_block\n",
      " ck_18_gelu (Activation)                                            _18_pointwise_conv_1[0][0]']  \n",
      "                                                                                                  \n",
      " convnext_large_stage_2_blo  (None, 14, 14, 768)          2360064   ['convnext_large_stage_2_block\n",
      " ck_18_pointwise_conv_2 (De                                         _18_gelu[0][0]']              \n",
      " nse)                                                                                             \n",
      "                                                                                                  \n",
      " convnext_large_stage_2_blo  (None, 14, 14, 768)          768       ['convnext_large_stage_2_block\n",
      " ck_18_layer_scale (LayerSc                                         _18_pointwise_conv_2[0][0]']  \n",
      " ale)                                                                                             \n",
      "                                                                                                  \n",
      " convnext_large_stage_2_blo  (None, 14, 14, 768)          0         ['convnext_large_stage_2_block\n",
      " ck_18_identity (Activation                                         _18_layer_scale[0][0]']       \n",
      " )                                                                                                \n",
      "                                                                                                  \n",
      " tf.__operators__.add_24 (T  (None, 14, 14, 768)          0         ['tf.__operators__.add_23[0][0\n",
      " FOpLambda)                                                         ]',                           \n",
      "                                                                     'convnext_large_stage_2_block\n",
      "                                                                    _18_identity[0][0]']          \n",
      "                                                                                                  \n",
      " convnext_large_stage_2_blo  (None, 14, 14, 768)          38400     ['tf.__operators__.add_24[0][0\n",
      " ck_19_depthwise_conv (Conv                                         ]']                           \n",
      " 2D)                                                                                              \n",
      "                                                                                                  \n",
      " convnext_large_stage_2_blo  (None, 14, 14, 768)          1536      ['convnext_large_stage_2_block\n",
      " ck_19_layernorm (LayerNorm                                         _19_depthwise_conv[0][0]']    \n",
      " alization)                                                                                       \n",
      "                                                                                                  \n",
      " convnext_large_stage_2_blo  (None, 14, 14, 3072)         2362368   ['convnext_large_stage_2_block\n",
      " ck_19_pointwise_conv_1 (De                                         _19_layernorm[0][0]']         \n",
      " nse)                                                                                             \n",
      "                                                                                                  \n",
      " convnext_large_stage_2_blo  (None, 14, 14, 3072)         0         ['convnext_large_stage_2_block\n",
      " ck_19_gelu (Activation)                                            _19_pointwise_conv_1[0][0]']  \n",
      "                                                                                                  \n",
      " convnext_large_stage_2_blo  (None, 14, 14, 768)          2360064   ['convnext_large_stage_2_block\n",
      " ck_19_pointwise_conv_2 (De                                         _19_gelu[0][0]']              \n",
      " nse)                                                                                             \n",
      "                                                                                                  \n",
      " convnext_large_stage_2_blo  (None, 14, 14, 768)          768       ['convnext_large_stage_2_block\n",
      " ck_19_layer_scale (LayerSc                                         _19_pointwise_conv_2[0][0]']  \n",
      " ale)                                                                                             \n",
      "                                                                                                  \n",
      " convnext_large_stage_2_blo  (None, 14, 14, 768)          0         ['convnext_large_stage_2_block\n",
      " ck_19_identity (Activation                                         _19_layer_scale[0][0]']       \n",
      " )                                                                                                \n",
      "                                                                                                  \n",
      " tf.__operators__.add_25 (T  (None, 14, 14, 768)          0         ['tf.__operators__.add_24[0][0\n",
      " FOpLambda)                                                         ]',                           \n",
      "                                                                     'convnext_large_stage_2_block\n",
      "                                                                    _19_identity[0][0]']          \n",
      "                                                                                                  \n",
      " convnext_large_stage_2_blo  (None, 14, 14, 768)          38400     ['tf.__operators__.add_25[0][0\n",
      " ck_20_depthwise_conv (Conv                                         ]']                           \n",
      " 2D)                                                                                              \n",
      "                                                                                                  \n",
      " convnext_large_stage_2_blo  (None, 14, 14, 768)          1536      ['convnext_large_stage_2_block\n",
      " ck_20_layernorm (LayerNorm                                         _20_depthwise_conv[0][0]']    \n",
      " alization)                                                                                       \n",
      "                                                                                                  \n",
      " convnext_large_stage_2_blo  (None, 14, 14, 3072)         2362368   ['convnext_large_stage_2_block\n",
      " ck_20_pointwise_conv_1 (De                                         _20_layernorm[0][0]']         \n",
      " nse)                                                                                             \n",
      "                                                                                                  \n",
      " convnext_large_stage_2_blo  (None, 14, 14, 3072)         0         ['convnext_large_stage_2_block\n",
      " ck_20_gelu (Activation)                                            _20_pointwise_conv_1[0][0]']  \n",
      "                                                                                                  \n",
      " convnext_large_stage_2_blo  (None, 14, 14, 768)          2360064   ['convnext_large_stage_2_block\n",
      " ck_20_pointwise_conv_2 (De                                         _20_gelu[0][0]']              \n",
      " nse)                                                                                             \n",
      "                                                                                                  \n",
      " convnext_large_stage_2_blo  (None, 14, 14, 768)          768       ['convnext_large_stage_2_block\n",
      " ck_20_layer_scale (LayerSc                                         _20_pointwise_conv_2[0][0]']  \n",
      " ale)                                                                                             \n",
      "                                                                                                  \n",
      " convnext_large_stage_2_blo  (None, 14, 14, 768)          0         ['convnext_large_stage_2_block\n",
      " ck_20_identity (Activation                                         _20_layer_scale[0][0]']       \n",
      " )                                                                                                \n",
      "                                                                                                  \n",
      " tf.__operators__.add_26 (T  (None, 14, 14, 768)          0         ['tf.__operators__.add_25[0][0\n",
      " FOpLambda)                                                         ]',                           \n",
      "                                                                     'convnext_large_stage_2_block\n",
      "                                                                    _20_identity[0][0]']          \n",
      "                                                                                                  \n",
      " convnext_large_stage_2_blo  (None, 14, 14, 768)          38400     ['tf.__operators__.add_26[0][0\n",
      " ck_21_depthwise_conv (Conv                                         ]']                           \n",
      " 2D)                                                                                              \n",
      "                                                                                                  \n",
      " convnext_large_stage_2_blo  (None, 14, 14, 768)          1536      ['convnext_large_stage_2_block\n",
      " ck_21_layernorm (LayerNorm                                         _21_depthwise_conv[0][0]']    \n",
      " alization)                                                                                       \n",
      "                                                                                                  \n",
      " convnext_large_stage_2_blo  (None, 14, 14, 3072)         2362368   ['convnext_large_stage_2_block\n",
      " ck_21_pointwise_conv_1 (De                                         _21_layernorm[0][0]']         \n",
      " nse)                                                                                             \n",
      "                                                                                                  \n",
      " convnext_large_stage_2_blo  (None, 14, 14, 3072)         0         ['convnext_large_stage_2_block\n",
      " ck_21_gelu (Activation)                                            _21_pointwise_conv_1[0][0]']  \n",
      "                                                                                                  \n",
      " convnext_large_stage_2_blo  (None, 14, 14, 768)          2360064   ['convnext_large_stage_2_block\n",
      " ck_21_pointwise_conv_2 (De                                         _21_gelu[0][0]']              \n",
      " nse)                                                                                             \n",
      "                                                                                                  \n",
      " convnext_large_stage_2_blo  (None, 14, 14, 768)          768       ['convnext_large_stage_2_block\n",
      " ck_21_layer_scale (LayerSc                                         _21_pointwise_conv_2[0][0]']  \n",
      " ale)                                                                                             \n",
      "                                                                                                  \n",
      " convnext_large_stage_2_blo  (None, 14, 14, 768)          0         ['convnext_large_stage_2_block\n",
      " ck_21_identity (Activation                                         _21_layer_scale[0][0]']       \n",
      " )                                                                                                \n",
      "                                                                                                  \n",
      " tf.__operators__.add_27 (T  (None, 14, 14, 768)          0         ['tf.__operators__.add_26[0][0\n",
      " FOpLambda)                                                         ]',                           \n",
      "                                                                     'convnext_large_stage_2_block\n",
      "                                                                    _21_identity[0][0]']          \n",
      "                                                                                                  \n",
      " convnext_large_stage_2_blo  (None, 14, 14, 768)          38400     ['tf.__operators__.add_27[0][0\n",
      " ck_22_depthwise_conv (Conv                                         ]']                           \n",
      " 2D)                                                                                              \n",
      "                                                                                                  \n",
      " convnext_large_stage_2_blo  (None, 14, 14, 768)          1536      ['convnext_large_stage_2_block\n",
      " ck_22_layernorm (LayerNorm                                         _22_depthwise_conv[0][0]']    \n",
      " alization)                                                                                       \n",
      "                                                                                                  \n",
      " convnext_large_stage_2_blo  (None, 14, 14, 3072)         2362368   ['convnext_large_stage_2_block\n",
      " ck_22_pointwise_conv_1 (De                                         _22_layernorm[0][0]']         \n",
      " nse)                                                                                             \n",
      "                                                                                                  \n",
      " convnext_large_stage_2_blo  (None, 14, 14, 3072)         0         ['convnext_large_stage_2_block\n",
      " ck_22_gelu (Activation)                                            _22_pointwise_conv_1[0][0]']  \n",
      "                                                                                                  \n",
      " convnext_large_stage_2_blo  (None, 14, 14, 768)          2360064   ['convnext_large_stage_2_block\n",
      " ck_22_pointwise_conv_2 (De                                         _22_gelu[0][0]']              \n",
      " nse)                                                                                             \n",
      "                                                                                                  \n",
      " convnext_large_stage_2_blo  (None, 14, 14, 768)          768       ['convnext_large_stage_2_block\n",
      " ck_22_layer_scale (LayerSc                                         _22_pointwise_conv_2[0][0]']  \n",
      " ale)                                                                                             \n",
      "                                                                                                  \n",
      " convnext_large_stage_2_blo  (None, 14, 14, 768)          0         ['convnext_large_stage_2_block\n",
      " ck_22_identity (Activation                                         _22_layer_scale[0][0]']       \n",
      " )                                                                                                \n",
      "                                                                                                  \n",
      " tf.__operators__.add_28 (T  (None, 14, 14, 768)          0         ['tf.__operators__.add_27[0][0\n",
      " FOpLambda)                                                         ]',                           \n",
      "                                                                     'convnext_large_stage_2_block\n",
      "                                                                    _22_identity[0][0]']          \n",
      "                                                                                                  \n",
      " convnext_large_stage_2_blo  (None, 14, 14, 768)          38400     ['tf.__operators__.add_28[0][0\n",
      " ck_23_depthwise_conv (Conv                                         ]']                           \n",
      " 2D)                                                                                              \n",
      "                                                                                                  \n",
      " convnext_large_stage_2_blo  (None, 14, 14, 768)          1536      ['convnext_large_stage_2_block\n",
      " ck_23_layernorm (LayerNorm                                         _23_depthwise_conv[0][0]']    \n",
      " alization)                                                                                       \n",
      "                                                                                                  \n",
      " convnext_large_stage_2_blo  (None, 14, 14, 3072)         2362368   ['convnext_large_stage_2_block\n",
      " ck_23_pointwise_conv_1 (De                                         _23_layernorm[0][0]']         \n",
      " nse)                                                                                             \n",
      "                                                                                                  \n",
      " convnext_large_stage_2_blo  (None, 14, 14, 3072)         0         ['convnext_large_stage_2_block\n",
      " ck_23_gelu (Activation)                                            _23_pointwise_conv_1[0][0]']  \n",
      "                                                                                                  \n",
      " convnext_large_stage_2_blo  (None, 14, 14, 768)          2360064   ['convnext_large_stage_2_block\n",
      " ck_23_pointwise_conv_2 (De                                         _23_gelu[0][0]']              \n",
      " nse)                                                                                             \n",
      "                                                                                                  \n",
      " convnext_large_stage_2_blo  (None, 14, 14, 768)          768       ['convnext_large_stage_2_block\n",
      " ck_23_layer_scale (LayerSc                                         _23_pointwise_conv_2[0][0]']  \n",
      " ale)                                                                                             \n",
      "                                                                                                  \n",
      " convnext_large_stage_2_blo  (None, 14, 14, 768)          0         ['convnext_large_stage_2_block\n",
      " ck_23_identity (Activation                                         _23_layer_scale[0][0]']       \n",
      " )                                                                                                \n",
      "                                                                                                  \n",
      " tf.__operators__.add_29 (T  (None, 14, 14, 768)          0         ['tf.__operators__.add_28[0][0\n",
      " FOpLambda)                                                         ]',                           \n",
      "                                                                     'convnext_large_stage_2_block\n",
      "                                                                    _23_identity[0][0]']          \n",
      "                                                                                                  \n",
      " convnext_large_stage_2_blo  (None, 14, 14, 768)          38400     ['tf.__operators__.add_29[0][0\n",
      " ck_24_depthwise_conv (Conv                                         ]']                           \n",
      " 2D)                                                                                              \n",
      "                                                                                                  \n",
      " convnext_large_stage_2_blo  (None, 14, 14, 768)          1536      ['convnext_large_stage_2_block\n",
      " ck_24_layernorm (LayerNorm                                         _24_depthwise_conv[0][0]']    \n",
      " alization)                                                                                       \n",
      "                                                                                                  \n",
      " convnext_large_stage_2_blo  (None, 14, 14, 3072)         2362368   ['convnext_large_stage_2_block\n",
      " ck_24_pointwise_conv_1 (De                                         _24_layernorm[0][0]']         \n",
      " nse)                                                                                             \n",
      "                                                                                                  \n",
      " convnext_large_stage_2_blo  (None, 14, 14, 3072)         0         ['convnext_large_stage_2_block\n",
      " ck_24_gelu (Activation)                                            _24_pointwise_conv_1[0][0]']  \n",
      "                                                                                                  \n",
      " convnext_large_stage_2_blo  (None, 14, 14, 768)          2360064   ['convnext_large_stage_2_block\n",
      " ck_24_pointwise_conv_2 (De                                         _24_gelu[0][0]']              \n",
      " nse)                                                                                             \n",
      "                                                                                                  \n",
      " convnext_large_stage_2_blo  (None, 14, 14, 768)          768       ['convnext_large_stage_2_block\n",
      " ck_24_layer_scale (LayerSc                                         _24_pointwise_conv_2[0][0]']  \n",
      " ale)                                                                                             \n",
      "                                                                                                  \n",
      " convnext_large_stage_2_blo  (None, 14, 14, 768)          0         ['convnext_large_stage_2_block\n",
      " ck_24_identity (Activation                                         _24_layer_scale[0][0]']       \n",
      " )                                                                                                \n",
      "                                                                                                  \n",
      " tf.__operators__.add_30 (T  (None, 14, 14, 768)          0         ['tf.__operators__.add_29[0][0\n",
      " FOpLambda)                                                         ]',                           \n",
      "                                                                     'convnext_large_stage_2_block\n",
      "                                                                    _24_identity[0][0]']          \n",
      "                                                                                                  \n",
      " convnext_large_stage_2_blo  (None, 14, 14, 768)          38400     ['tf.__operators__.add_30[0][0\n",
      " ck_25_depthwise_conv (Conv                                         ]']                           \n",
      " 2D)                                                                                              \n",
      "                                                                                                  \n",
      " convnext_large_stage_2_blo  (None, 14, 14, 768)          1536      ['convnext_large_stage_2_block\n",
      " ck_25_layernorm (LayerNorm                                         _25_depthwise_conv[0][0]']    \n",
      " alization)                                                                                       \n",
      "                                                                                                  \n",
      " convnext_large_stage_2_blo  (None, 14, 14, 3072)         2362368   ['convnext_large_stage_2_block\n",
      " ck_25_pointwise_conv_1 (De                                         _25_layernorm[0][0]']         \n",
      " nse)                                                                                             \n",
      "                                                                                                  \n",
      " convnext_large_stage_2_blo  (None, 14, 14, 3072)         0         ['convnext_large_stage_2_block\n",
      " ck_25_gelu (Activation)                                            _25_pointwise_conv_1[0][0]']  \n",
      "                                                                                                  \n",
      " convnext_large_stage_2_blo  (None, 14, 14, 768)          2360064   ['convnext_large_stage_2_block\n",
      " ck_25_pointwise_conv_2 (De                                         _25_gelu[0][0]']              \n",
      " nse)                                                                                             \n",
      "                                                                                                  \n",
      " convnext_large_stage_2_blo  (None, 14, 14, 768)          768       ['convnext_large_stage_2_block\n",
      " ck_25_layer_scale (LayerSc                                         _25_pointwise_conv_2[0][0]']  \n",
      " ale)                                                                                             \n",
      "                                                                                                  \n",
      " convnext_large_stage_2_blo  (None, 14, 14, 768)          0         ['convnext_large_stage_2_block\n",
      " ck_25_identity (Activation                                         _25_layer_scale[0][0]']       \n",
      " )                                                                                                \n",
      "                                                                                                  \n",
      " tf.__operators__.add_31 (T  (None, 14, 14, 768)          0         ['tf.__operators__.add_30[0][0\n",
      " FOpLambda)                                                         ]',                           \n",
      "                                                                     'convnext_large_stage_2_block\n",
      "                                                                    _25_identity[0][0]']          \n",
      "                                                                                                  \n",
      " convnext_large_stage_2_blo  (None, 14, 14, 768)          38400     ['tf.__operators__.add_31[0][0\n",
      " ck_26_depthwise_conv (Conv                                         ]']                           \n",
      " 2D)                                                                                              \n",
      "                                                                                                  \n",
      " convnext_large_stage_2_blo  (None, 14, 14, 768)          1536      ['convnext_large_stage_2_block\n",
      " ck_26_layernorm (LayerNorm                                         _26_depthwise_conv[0][0]']    \n",
      " alization)                                                                                       \n",
      "                                                                                                  \n",
      " convnext_large_stage_2_blo  (None, 14, 14, 3072)         2362368   ['convnext_large_stage_2_block\n",
      " ck_26_pointwise_conv_1 (De                                         _26_layernorm[0][0]']         \n",
      " nse)                                                                                             \n",
      "                                                                                                  \n",
      " convnext_large_stage_2_blo  (None, 14, 14, 3072)         0         ['convnext_large_stage_2_block\n",
      " ck_26_gelu (Activation)                                            _26_pointwise_conv_1[0][0]']  \n",
      "                                                                                                  \n",
      " convnext_large_stage_2_blo  (None, 14, 14, 768)          2360064   ['convnext_large_stage_2_block\n",
      " ck_26_pointwise_conv_2 (De                                         _26_gelu[0][0]']              \n",
      " nse)                                                                                             \n",
      "                                                                                                  \n",
      " convnext_large_stage_2_blo  (None, 14, 14, 768)          768       ['convnext_large_stage_2_block\n",
      " ck_26_layer_scale (LayerSc                                         _26_pointwise_conv_2[0][0]']  \n",
      " ale)                                                                                             \n",
      "                                                                                                  \n",
      " convnext_large_stage_2_blo  (None, 14, 14, 768)          0         ['convnext_large_stage_2_block\n",
      " ck_26_identity (Activation                                         _26_layer_scale[0][0]']       \n",
      " )                                                                                                \n",
      "                                                                                                  \n",
      " tf.__operators__.add_32 (T  (None, 14, 14, 768)          0         ['tf.__operators__.add_31[0][0\n",
      " FOpLambda)                                                         ]',                           \n",
      "                                                                     'convnext_large_stage_2_block\n",
      "                                                                    _26_identity[0][0]']          \n",
      "                                                                                                  \n",
      " convnext_large_downsamplin  (None, 7, 7, 1536)           4721664   ['tf.__operators__.add_32[0][0\n",
      " g_block_2 (Sequential)                                             ]']                           \n",
      "                                                                                                  \n",
      " convnext_large_stage_3_blo  (None, 7, 7, 1536)           76800     ['convnext_large_downsampling_\n",
      " ck_0_depthwise_conv (Conv2                                         block_2[0][0]']               \n",
      " D)                                                                                               \n",
      "                                                                                                  \n",
      " convnext_large_stage_3_blo  (None, 7, 7, 1536)           3072      ['convnext_large_stage_3_block\n",
      " ck_0_layernorm (LayerNorma                                         _0_depthwise_conv[0][0]']     \n",
      " lization)                                                                                        \n",
      "                                                                                                  \n",
      " convnext_large_stage_3_blo  (None, 7, 7, 6144)           9443328   ['convnext_large_stage_3_block\n",
      " ck_0_pointwise_conv_1 (Den                                         _0_layernorm[0][0]']          \n",
      " se)                                                                                              \n",
      "                                                                                                  \n",
      " convnext_large_stage_3_blo  (None, 7, 7, 6144)           0         ['convnext_large_stage_3_block\n",
      " ck_0_gelu (Activation)                                             _0_pointwise_conv_1[0][0]']   \n",
      "                                                                                                  \n",
      " convnext_large_stage_3_blo  (None, 7, 7, 1536)           9438720   ['convnext_large_stage_3_block\n",
      " ck_0_pointwise_conv_2 (Den                                         _0_gelu[0][0]']               \n",
      " se)                                                                                              \n",
      "                                                                                                  \n",
      " convnext_large_stage_3_blo  (None, 7, 7, 1536)           1536      ['convnext_large_stage_3_block\n",
      " ck_0_layer_scale (LayerSca                                         _0_pointwise_conv_2[0][0]']   \n",
      " le)                                                                                              \n",
      "                                                                                                  \n",
      " convnext_large_stage_3_blo  (None, 7, 7, 1536)           0         ['convnext_large_stage_3_block\n",
      " ck_0_identity (Activation)                                         _0_layer_scale[0][0]']        \n",
      "                                                                                                  \n",
      " tf.__operators__.add_33 (T  (None, 7, 7, 1536)           0         ['convnext_large_downsampling_\n",
      " FOpLambda)                                                         block_2[0][0]',               \n",
      "                                                                     'convnext_large_stage_3_block\n",
      "                                                                    _0_identity[0][0]']           \n",
      "                                                                                                  \n",
      " convnext_large_stage_3_blo  (None, 7, 7, 1536)           76800     ['tf.__operators__.add_33[0][0\n",
      " ck_1_depthwise_conv (Conv2                                         ]']                           \n",
      " D)                                                                                               \n",
      "                                                                                                  \n",
      " convnext_large_stage_3_blo  (None, 7, 7, 1536)           3072      ['convnext_large_stage_3_block\n",
      " ck_1_layernorm (LayerNorma                                         _1_depthwise_conv[0][0]']     \n",
      " lization)                                                                                        \n",
      "                                                                                                  \n",
      " convnext_large_stage_3_blo  (None, 7, 7, 6144)           9443328   ['convnext_large_stage_3_block\n",
      " ck_1_pointwise_conv_1 (Den                                         _1_layernorm[0][0]']          \n",
      " se)                                                                                              \n",
      "                                                                                                  \n",
      " convnext_large_stage_3_blo  (None, 7, 7, 6144)           0         ['convnext_large_stage_3_block\n",
      " ck_1_gelu (Activation)                                             _1_pointwise_conv_1[0][0]']   \n",
      "                                                                                                  \n",
      " convnext_large_stage_3_blo  (None, 7, 7, 1536)           9438720   ['convnext_large_stage_3_block\n",
      " ck_1_pointwise_conv_2 (Den                                         _1_gelu[0][0]']               \n",
      " se)                                                                                              \n",
      "                                                                                                  \n",
      " convnext_large_stage_3_blo  (None, 7, 7, 1536)           1536      ['convnext_large_stage_3_block\n",
      " ck_1_layer_scale (LayerSca                                         _1_pointwise_conv_2[0][0]']   \n",
      " le)                                                                                              \n",
      "                                                                                                  \n",
      " convnext_large_stage_3_blo  (None, 7, 7, 1536)           0         ['convnext_large_stage_3_block\n",
      " ck_1_identity (Activation)                                         _1_layer_scale[0][0]']        \n",
      "                                                                                                  \n",
      " tf.__operators__.add_34 (T  (None, 7, 7, 1536)           0         ['tf.__operators__.add_33[0][0\n",
      " FOpLambda)                                                         ]',                           \n",
      "                                                                     'convnext_large_stage_3_block\n",
      "                                                                    _1_identity[0][0]']           \n",
      "                                                                                                  \n",
      " convnext_large_stage_3_blo  (None, 7, 7, 1536)           76800     ['tf.__operators__.add_34[0][0\n",
      " ck_2_depthwise_conv (Conv2                                         ]']                           \n",
      " D)                                                                                               \n",
      "                                                                                                  \n",
      " convnext_large_stage_3_blo  (None, 7, 7, 1536)           3072      ['convnext_large_stage_3_block\n",
      " ck_2_layernorm (LayerNorma                                         _2_depthwise_conv[0][0]']     \n",
      " lization)                                                                                        \n",
      "                                                                                                  \n",
      " convnext_large_stage_3_blo  (None, 7, 7, 6144)           9443328   ['convnext_large_stage_3_block\n",
      " ck_2_pointwise_conv_1 (Den                                         _2_layernorm[0][0]']          \n",
      " se)                                                                                              \n",
      "                                                                                                  \n",
      " convnext_large_stage_3_blo  (None, 7, 7, 6144)           0         ['convnext_large_stage_3_block\n",
      " ck_2_gelu (Activation)                                             _2_pointwise_conv_1[0][0]']   \n",
      "                                                                                                  \n",
      " convnext_large_stage_3_blo  (None, 7, 7, 1536)           9438720   ['convnext_large_stage_3_block\n",
      " ck_2_pointwise_conv_2 (Den                                         _2_gelu[0][0]']               \n",
      " se)                                                                                              \n",
      "                                                                                                  \n",
      " convnext_large_stage_3_blo  (None, 7, 7, 1536)           1536      ['convnext_large_stage_3_block\n",
      " ck_2_layer_scale (LayerSca                                         _2_pointwise_conv_2[0][0]']   \n",
      " le)                                                                                              \n",
      "                                                                                                  \n",
      " convnext_large_stage_3_blo  (None, 7, 7, 1536)           0         ['convnext_large_stage_3_block\n",
      " ck_2_identity (Activation)                                         _2_layer_scale[0][0]']        \n",
      "                                                                                                  \n",
      " tf.__operators__.add_35 (T  (None, 7, 7, 1536)           0         ['tf.__operators__.add_34[0][0\n",
      " FOpLambda)                                                         ]',                           \n",
      "                                                                     'convnext_large_stage_3_block\n",
      "                                                                    _2_identity[0][0]']           \n",
      "                                                                                                  \n",
      " layer_normalization (Layer  (None, 7, 7, 1536)           3072      ['tf.__operators__.add_35[0][0\n",
      " Normalization)                                                     ]']                           \n",
      "                                                                                                  \n",
      "==================================================================================================\n",
      "Total params: 196230336 (748.56 MB)\n",
      "Trainable params: 196230336 (748.56 MB)\n",
      "Non-trainable params: 0 (0.00 Byte)\n",
      "__________________________________________________________________________________________________\n"
     ]
    }
   ],
   "source": [
    "conv_base.summary()"
   ]
  },
  {
   "cell_type": "code",
   "execution_count": 9,
   "metadata": {
    "id": "H5nPQ3IBDkXr"
   },
   "outputs": [],
   "source": [
    "conv_base.trainable = False"
   ]
  },
  {
   "cell_type": "markdown",
   "metadata": {
    "id": "vWhE7LMaDokI"
   },
   "source": [
    "### Experiment 1: one dense layer with 64 neurons\n",
    "In this first experiment we try a simple configuration with a single dense layer before the output layer."
   ]
  },
  {
   "cell_type": "code",
   "execution_count": null,
   "metadata": {
    "id": "8aOOWkBnDqWJ"
   },
   "outputs": [],
   "source": [
    "from keras.applications.convnext import preprocess_input\n",
    "inputs = keras.Input(shape=(IMAGE_HEIGHT, IMAGE_WIDTH, 3))\n",
    "x = keras.applications.nasnet.preprocess_input(inputs)\n",
    "x = conv_base(x) # feature extraction\n",
    "x = layers.Flatten()(x)\n",
    "x = layers.Dense(64, activation='relu') (x)\n",
    "outputs = layers.Dense(1, activation='sigmoid')(x)\n",
    "model1 = keras.Model(inputs=inputs, outputs=outputs)\n",
    "compile_model(model1)"
   ]
  },
  {
   "cell_type": "code",
   "execution_count": null,
   "metadata": {
    "id": "AKIa2jE9E3Lf"
   },
   "outputs": [],
   "source": [
    "run_model(model1, 'experiment1_feature_extraction', epochs = 30)"
   ]
  },
  {
   "cell_type": "code",
   "execution_count": 11,
   "metadata": {
    "colab": {
     "base_uri": "https://localhost:8080/",
     "height": 480
    },
    "id": "WlPv_t6oaQfH",
    "outputId": "4bb8a0d1-821a-4e55-a382-b95c945e95c7"
   },
   "outputs": [
    {
     "ename": "ValueError",
     "evalue": "Unknown layer: 'LayerScale'. Please ensure you are using a `keras.utils.custom_object_scope` and that this object is included in the scope. See https://www.tensorflow.org/guide/keras/save_and_serialize#registering_the_custom_object for details.",
     "output_type": "error",
     "traceback": [
      "\u001b[0;31m---------------------------------------------------------------------------\u001b[0m",
      "\u001b[0;31mValueError\u001b[0m                                Traceback (most recent call last)",
      "\u001b[0;32m<ipython-input-11-dd51c8edc010>\u001b[0m in \u001b[0;36m<cell line: 1>\u001b[0;34m()\u001b[0m\n\u001b[0;32m----> 1\u001b[0;31m \u001b[0mevaluate_model\u001b[0m\u001b[0;34m(\u001b[0m\u001b[0mtf\u001b[0m\u001b[0;34m.\u001b[0m\u001b[0mkeras\u001b[0m\u001b[0;34m.\u001b[0m\u001b[0mmodels\u001b[0m\u001b[0;34m.\u001b[0m\u001b[0mload_model\u001b[0m\u001b[0;34m(\u001b[0m\u001b[0mGLOBAL_MODELS_FOLDER\u001b[0m \u001b[0;34m+\u001b[0m \u001b[0;34m'/experiment1_feature_extraction.h5'\u001b[0m\u001b[0;34m)\u001b[0m\u001b[0;34m,\u001b[0m\u001b[0mcustom_objects\u001b[0m\u001b[0;34m=\u001b[0m\u001b[0;34m{\u001b[0m\u001b[0;34m'KerasLayer'\u001b[0m\u001b[0;34m:\u001b[0m\u001b[0mhub\u001b[0m\u001b[0;34m.\u001b[0m\u001b[0mKerasLayer\u001b[0m\u001b[0;34m,\u001b[0m\u001b[0;34m'AdamWeightDecay'\u001b[0m\u001b[0;34m:\u001b[0m \u001b[0moptimizer\u001b[0m\u001b[0;34m}\u001b[0m\u001b[0;34m)\u001b[0m\u001b[0;34m\u001b[0m\u001b[0;34m\u001b[0m\u001b[0m\n\u001b[0m",
      "\u001b[0;32m/usr/local/lib/python3.10/dist-packages/keras/src/saving/saving_api.py\u001b[0m in \u001b[0;36mload_model\u001b[0;34m(filepath, custom_objects, compile, safe_mode, **kwargs)\u001b[0m\n\u001b[1;32m    260\u001b[0m \u001b[0;34m\u001b[0m\u001b[0m\n\u001b[1;32m    261\u001b[0m     \u001b[0;31m# Legacy case.\u001b[0m\u001b[0;34m\u001b[0m\u001b[0;34m\u001b[0m\u001b[0m\n\u001b[0;32m--> 262\u001b[0;31m     return legacy_sm_saving_lib.load_model(\n\u001b[0m\u001b[1;32m    263\u001b[0m         \u001b[0mfilepath\u001b[0m\u001b[0;34m,\u001b[0m \u001b[0mcustom_objects\u001b[0m\u001b[0;34m=\u001b[0m\u001b[0mcustom_objects\u001b[0m\u001b[0;34m,\u001b[0m \u001b[0mcompile\u001b[0m\u001b[0;34m=\u001b[0m\u001b[0mcompile\u001b[0m\u001b[0;34m,\u001b[0m \u001b[0;34m**\u001b[0m\u001b[0mkwargs\u001b[0m\u001b[0;34m\u001b[0m\u001b[0;34m\u001b[0m\u001b[0m\n\u001b[1;32m    264\u001b[0m     )\n",
      "\u001b[0;32m/usr/local/lib/python3.10/dist-packages/keras/src/utils/traceback_utils.py\u001b[0m in \u001b[0;36merror_handler\u001b[0;34m(*args, **kwargs)\u001b[0m\n\u001b[1;32m     68\u001b[0m             \u001b[0;31m# To get the full stack trace, call:\u001b[0m\u001b[0;34m\u001b[0m\u001b[0;34m\u001b[0m\u001b[0m\n\u001b[1;32m     69\u001b[0m             \u001b[0;31m# `tf.debugging.disable_traceback_filtering()`\u001b[0m\u001b[0;34m\u001b[0m\u001b[0;34m\u001b[0m\u001b[0m\n\u001b[0;32m---> 70\u001b[0;31m             \u001b[0;32mraise\u001b[0m \u001b[0me\u001b[0m\u001b[0;34m.\u001b[0m\u001b[0mwith_traceback\u001b[0m\u001b[0;34m(\u001b[0m\u001b[0mfiltered_tb\u001b[0m\u001b[0;34m)\u001b[0m \u001b[0;32mfrom\u001b[0m \u001b[0;32mNone\u001b[0m\u001b[0;34m\u001b[0m\u001b[0;34m\u001b[0m\u001b[0m\n\u001b[0m\u001b[1;32m     71\u001b[0m         \u001b[0;32mfinally\u001b[0m\u001b[0;34m:\u001b[0m\u001b[0;34m\u001b[0m\u001b[0;34m\u001b[0m\u001b[0m\n\u001b[1;32m     72\u001b[0m             \u001b[0;32mdel\u001b[0m \u001b[0mfiltered_tb\u001b[0m\u001b[0;34m\u001b[0m\u001b[0;34m\u001b[0m\u001b[0m\n",
      "\u001b[0;32m/usr/local/lib/python3.10/dist-packages/keras/src/saving/legacy/serialization.py\u001b[0m in \u001b[0;36mclass_and_config_for_serialized_keras_object\u001b[0;34m(config, module_objects, custom_objects, printable_module_name)\u001b[0m\n\u001b[1;32m    363\u001b[0m     )\n\u001b[1;32m    364\u001b[0m     \u001b[0;32mif\u001b[0m \u001b[0mcls\u001b[0m \u001b[0;32mis\u001b[0m \u001b[0;32mNone\u001b[0m\u001b[0;34m:\u001b[0m\u001b[0;34m\u001b[0m\u001b[0;34m\u001b[0m\u001b[0m\n\u001b[0;32m--> 365\u001b[0;31m         raise ValueError(\n\u001b[0m\u001b[1;32m    366\u001b[0m             \u001b[0;34mf\"Unknown {printable_module_name}: '{class_name}'. \"\u001b[0m\u001b[0;34m\u001b[0m\u001b[0;34m\u001b[0m\u001b[0m\n\u001b[1;32m    367\u001b[0m             \u001b[0;34m\"Please ensure you are using a `keras.utils.custom_object_scope` \"\u001b[0m\u001b[0;34m\u001b[0m\u001b[0;34m\u001b[0m\u001b[0m\n",
      "\u001b[0;31mValueError\u001b[0m: Unknown layer: 'LayerScale'. Please ensure you are using a `keras.utils.custom_object_scope` and that this object is included in the scope. See https://www.tensorflow.org/guide/keras/save_and_serialize#registering_the_custom_object for details."
     ]
    }
   ],
   "source": [
    "\n",
    "evaluate_model(tf.keras.models.load_model(GLOBAL_MODELS_FOLDER + '/experiment1_feature_extraction.h5'),custom_objects={'KerasLayer':hub.KerasLayer,'AdamWeightDecay': optimizer})"
   ]
  },
  {
   "cell_type": "markdown",
   "metadata": {
    "id": "LwDbJNvOCg26"
   },
   "source": [
    "### Experiment 2: one dense layer with 32 neurons\n",
    "We tried to lower the number of neurons, to fight overfitting"
   ]
  },
  {
   "cell_type": "code",
   "execution_count": null,
   "metadata": {
    "id": "J71xrDD4CixJ"
   },
   "outputs": [],
   "source": [
    "inputs = keras.Input(shape=(IMAGE_HEIGHT, IMAGE_WIDTH, 3))\n",
    "x = keras.applications.nasnet.preprocess_input(inputs)\n",
    "\n",
    "x = conv_base(x) # feature extraction\n",
    "x = layers.Flatten()(x)\n",
    "x = layers.Dense(32, activation='relu') (x)\n",
    "outputs = layers.Dense(1, activation='sigmoid')(x)\n",
    "model2 = keras.Model(inputs=inputs, outputs=outputs)\n",
    "compile_model(model2)"
   ]
  },
  {
   "cell_type": "code",
   "execution_count": null,
   "metadata": {
    "id": "0u_zDJjiDTf_"
   },
   "outputs": [],
   "source": [
    "run_model(model2, 'experiment2_feature_extraction', epochs = 30)"
   ]
  },
  {
   "cell_type": "code",
   "execution_count": null,
   "metadata": {
    "id": "69fEwmVeIyWz"
   },
   "outputs": [],
   "source": [
    "evaluate_model(tf.keras.models.load_model(GLOBAL_MODELS_FOLDER + '/experiment2_feature_extraction.h5'))"
   ]
  },
  {
   "cell_type": "markdown",
   "metadata": {
    "id": "T1JKasG-LSl_"
   },
   "source": [
    "### Experiment 3: one dense layer with 64 neurons and dropout\n",
    "Lowering the capacity of the networks leads us to underfitting, we could try to use Dropout instead."
   ]
  },
  {
   "cell_type": "code",
   "execution_count": null,
   "metadata": {
    "id": "BseIwRULQHL7"
   },
   "outputs": [],
   "source": [
    "inputs = keras.Input(shape=(IMAGE_HEIGHT, IMAGE_WIDTH, 3))\n",
    "x = keras.applications.nasnet.preprocess_input(inputs)\n",
    "x = conv_base(x) # feature extraction\n",
    "x = layers.Flatten()(x)\n",
    "x = layers.Dense(64, activation='relu') (x)\n",
    "x = layers.Dropout(0.2)(x)\n",
    "outputs = layers.Dense(1, activation='sigmoid')(x)\n",
    "model3 = keras.Model(inputs=inputs, outputs=outputs)\n",
    "compile_model(model3)"
   ]
  },
  {
   "cell_type": "code",
   "execution_count": null,
   "metadata": {
    "id": "8PqxaIK3QXdf"
   },
   "outputs": [],
   "source": [
    "run_model(model3, 'experiment3_feature_extraction', epochs = 50)"
   ]
  },
  {
   "cell_type": "code",
   "execution_count": null,
   "metadata": {
    "id": "F7cbTMl9I_t4"
   },
   "outputs": [],
   "source": [
    "evaluate_model(tf.keras.models.load_model(GLOBAL_MODELS_FOLDER + '/experiment3_feature_extraction.h5'))"
   ]
  },
  {
   "cell_type": "markdown",
   "metadata": {
    "id": "EONkZJhoJKMv"
   },
   "source": [
    "### Experiment 4: global average pooling\n",
    "Try GlobalAveragePooling instead of fully connected layers, to lower the number of parameters."
   ]
  },
  {
   "cell_type": "code",
   "execution_count": null,
   "metadata": {
    "colab": {
     "base_uri": "https://localhost:8080/"
    },
    "id": "EG72oOoVJRmY",
    "outputId": "d838ec11-0c5d-47a0-b0b4-69ea10db2cc4"
   },
   "outputs": [
    {
     "name": "stdout",
     "output_type": "stream",
     "text": [
      "Model: \"model\"\n",
      "_________________________________________________________________\n",
      " Layer (type)                Output Shape              Param #   \n",
      "=================================================================\n",
      " input_2 (InputLayer)        [(None, 224, 224, 3)]     0         \n",
      "                                                                 \n",
      " convnext_large (Functional  (None, 7, 7, 1536)        196230336 \n",
      " )                                                               \n",
      "                                                                 \n",
      " global_average_pooling2d (  (None, 1536)              0         \n",
      " GlobalAveragePooling2D)                                         \n",
      "                                                                 \n",
      " dense (Dense)               (None, 1)                 1537      \n",
      "                                                                 \n",
      "=================================================================\n",
      "Total params: 196231873 (748.57 MB)\n",
      "Trainable params: 1537 (6.00 KB)\n",
      "Non-trainable params: 196230336 (748.56 MB)\n",
      "_________________________________________________________________\n"
     ]
    }
   ],
   "source": [
    "inputs = keras.Input(shape=(IMAGE_HEIGHT, IMAGE_WIDTH, 3))\n",
    "x = keras.applications.convnext.preprocess_input(inputs)\n",
    "x = conv_base(x) # feature extraction\n",
    "x = layers.GlobalAveragePooling2D() (x)\n",
    "outputs = layers.Dense(1, activation='sigmoid')(x)\n",
    "model4 = keras.Model(inputs=inputs, outputs=outputs)\n",
    "compile_model(model4)"
   ]
  },
  {
   "cell_type": "code",
   "execution_count": null,
   "metadata": {
    "colab": {
     "base_uri": "https://localhost:8080/",
     "height": 1000
    },
    "id": "dj4LBPmnJawZ",
    "outputId": "5ade7287-35a0-47e4-f780-db32944410e4"
   },
   "outputs": [
    {
     "name": "stdout",
     "output_type": "stream",
     "text": [
      "Epoch 1/20\n",
      "200/200 [==============================] - ETA: 0s - loss: 0.4934 - accuracy: 0.7625\n",
      "Epoch 1: val_loss improved from inf to 0.39843, saving model to /content/models/experiment4_feature_extraction.keras\n",
      "200/200 [==============================] - 324s 1s/step - loss: 0.4934 - accuracy: 0.7625 - val_loss: 0.3984 - val_accuracy: 0.8288\n",
      "Epoch 2/20\n",
      "200/200 [==============================] - ETA: 0s - loss: 0.4160 - accuracy: 0.8100\n",
      "Epoch 2: val_loss improved from 0.39843 to 0.38355, saving model to /content/models/experiment4_feature_extraction.keras\n",
      "200/200 [==============================] - 280s 1s/step - loss: 0.4160 - accuracy: 0.8100 - val_loss: 0.3836 - val_accuracy: 0.8316\n",
      "Epoch 3/20\n",
      "200/200 [==============================] - ETA: 0s - loss: 0.3923 - accuracy: 0.8250\n",
      "Epoch 3: val_loss did not improve from 0.38355\n",
      "200/200 [==============================] - 275s 1s/step - loss: 0.3923 - accuracy: 0.8250 - val_loss: 0.3853 - val_accuracy: 0.8302\n",
      "Epoch 4/20\n",
      "200/200 [==============================] - ETA: 0s - loss: 0.3783 - accuracy: 0.8311\n",
      "Epoch 4: val_loss improved from 0.38355 to 0.37323, saving model to /content/models/experiment4_feature_extraction.keras\n",
      "200/200 [==============================] - 281s 1s/step - loss: 0.3783 - accuracy: 0.8311 - val_loss: 0.3732 - val_accuracy: 0.8354\n",
      "Epoch 5/20\n",
      "200/200 [==============================] - ETA: 0s - loss: 0.3629 - accuracy: 0.8402\n",
      "Epoch 5: val_loss improved from 0.37323 to 0.33830, saving model to /content/models/experiment4_feature_extraction.keras\n",
      "200/200 [==============================] - 280s 1s/step - loss: 0.3629 - accuracy: 0.8402 - val_loss: 0.3383 - val_accuracy: 0.8569\n",
      "Epoch 6/20\n",
      "200/200 [==============================] - ETA: 0s - loss: 0.3533 - accuracy: 0.8472\n",
      "Epoch 6: val_loss improved from 0.33830 to 0.32794, saving model to /content/models/experiment4_feature_extraction.keras\n",
      "200/200 [==============================] - 279s 1s/step - loss: 0.3533 - accuracy: 0.8472 - val_loss: 0.3279 - val_accuracy: 0.8626\n",
      "Epoch 7/20\n",
      "200/200 [==============================] - ETA: 0s - loss: 0.3430 - accuracy: 0.8544\n",
      "Epoch 7: val_loss did not improve from 0.32794\n",
      "200/200 [==============================] - 274s 1s/step - loss: 0.3430 - accuracy: 0.8544 - val_loss: 0.3323 - val_accuracy: 0.8569\n",
      "Epoch 8/20\n",
      "200/200 [==============================] - ETA: 0s - loss: 0.3357 - accuracy: 0.8576\n",
      "Epoch 8: val_loss improved from 0.32794 to 0.31595, saving model to /content/models/experiment4_feature_extraction.keras\n",
      "200/200 [==============================] - 280s 1s/step - loss: 0.3357 - accuracy: 0.8576 - val_loss: 0.3160 - val_accuracy: 0.8720\n",
      "Epoch 9/20\n",
      "200/200 [==============================] - ETA: 0s - loss: 0.3289 - accuracy: 0.8635\n",
      "Epoch 9: val_loss did not improve from 0.31595\n",
      "200/200 [==============================] - 272s 1s/step - loss: 0.3289 - accuracy: 0.8635 - val_loss: 0.3342 - val_accuracy: 0.8598\n",
      "Epoch 10/20\n",
      "200/200 [==============================] - ETA: 0s - loss: 0.3257 - accuracy: 0.8641\n",
      "Epoch 10: val_loss improved from 0.31595 to 0.30777, saving model to /content/models/experiment4_feature_extraction.keras\n",
      "200/200 [==============================] - 295s 1s/step - loss: 0.3257 - accuracy: 0.8641 - val_loss: 0.3078 - val_accuracy: 0.8734\n",
      "Epoch 11/20\n",
      "200/200 [==============================] - ETA: 0s - loss: 0.3155 - accuracy: 0.8710\n",
      "Epoch 11: val_loss did not improve from 0.30777\n",
      "200/200 [==============================] - 274s 1s/step - loss: 0.3155 - accuracy: 0.8710 - val_loss: 0.3277 - val_accuracy: 0.8602\n",
      "Epoch 12/20\n",
      "200/200 [==============================] - ETA: 0s - loss: 0.3128 - accuracy: 0.8702\n",
      "Epoch 12: val_loss did not improve from 0.30777\n",
      "200/200 [==============================] - 274s 1s/step - loss: 0.3128 - accuracy: 0.8702 - val_loss: 0.3171 - val_accuracy: 0.8644\n",
      "Epoch 13/20\n",
      "200/200 [==============================] - ETA: 0s - loss: 0.3066 - accuracy: 0.8755\n",
      "Epoch 13: val_loss improved from 0.30777 to 0.30682, saving model to /content/models/experiment4_feature_extraction.keras\n",
      "200/200 [==============================] - 280s 1s/step - loss: 0.3066 - accuracy: 0.8755 - val_loss: 0.3068 - val_accuracy: 0.8729\n",
      "Epoch 14/20\n",
      "200/200 [==============================] - ETA: 0s - loss: 0.3032 - accuracy: 0.8737\n",
      "Epoch 14: val_loss did not improve from 0.30682\n",
      "200/200 [==============================] - 274s 1s/step - loss: 0.3032 - accuracy: 0.8737 - val_loss: 0.3129 - val_accuracy: 0.8724\n",
      "Epoch 15/20\n",
      "200/200 [==============================] - ETA: 0s - loss: 0.2990 - accuracy: 0.8795\n",
      "Epoch 15: val_loss did not improve from 0.30682\n",
      "200/200 [==============================] - 274s 1s/step - loss: 0.2990 - accuracy: 0.8795 - val_loss: 0.3176 - val_accuracy: 0.8630\n",
      "Epoch 16/20\n",
      "200/200 [==============================] - ETA: 0s - loss: 0.2981 - accuracy: 0.8737\n",
      "Epoch 16: val_loss did not improve from 0.30682\n",
      "200/200 [==============================] - 275s 1s/step - loss: 0.2981 - accuracy: 0.8737 - val_loss: 0.3321 - val_accuracy: 0.8546\n",
      "Epoch 17/20\n",
      "200/200 [==============================] - ETA: 0s - loss: 0.2947 - accuracy: 0.8801\n",
      "Epoch 17: val_loss did not improve from 0.30682\n",
      "200/200 [==============================] - 274s 1s/step - loss: 0.2947 - accuracy: 0.8801 - val_loss: 0.3295 - val_accuracy: 0.8560\n",
      "Epoch 18/20\n",
      "200/200 [==============================] - ETA: 0s - loss: 0.2889 - accuracy: 0.8804\n",
      "Epoch 18: val_loss did not improve from 0.30682\n",
      "200/200 [==============================] - 273s 1s/step - loss: 0.2889 - accuracy: 0.8804 - val_loss: 0.3238 - val_accuracy: 0.8593\n"
     ]
    },
    {
     "data": {
      "image/png": "[encoded data removed]",
      "text/plain": [
       "<Figure size 640x480 with 1 Axes>"
      ]
     },
     "metadata": {},
     "output_type": "display_data"
    },
    {
     "data": {
      "image/png": "[encoded data removed]",
      "text/plain": [
       "<Figure size 640x480 with 1 Axes>"
      ]
     },
     "metadata": {},
     "output_type": "display_data"
    }
   ],
   "source": [
    "run_model(model4, \"experiment4_feature_extraction\", epochs=20)"
   ]
  },
  {
   "cell_type": "code",
   "execution_count": 16,
   "metadata": {
    "colab": {
     "base_uri": "https://localhost:8080/",
     "height": 339
    },
    "id": "JCDCdmr0bxo_",
    "outputId": "b01c6ca9-8739-49af-dbc4-caf2deee8708"
   },
   "outputs": [
    {
     "ename": "TypeError",
     "evalue": "'str' object is not callable",
     "output_type": "error",
     "traceback": [
      "\u001b[0;31m---------------------------------------------------------------------------\u001b[0m",
      "\u001b[0;31mTypeError\u001b[0m                                 Traceback (most recent call last)",
      "\u001b[0;32m<ipython-input-16-6f0e1ee22785>\u001b[0m in \u001b[0;36m<cell line: 1>\u001b[0;34m()\u001b[0m\n\u001b[0;32m----> 1\u001b[0;31m \u001b[0mevaluate_model\u001b[0m\u001b[0;34m(\u001b[0m \u001b[0mtf\u001b[0m\u001b[0;34m.\u001b[0m\u001b[0mkeras\u001b[0m\u001b[0;34m.\u001b[0m\u001b[0mmodels\u001b[0m\u001b[0;34m.\u001b[0m\u001b[0mload_model\u001b[0m\u001b[0;34m(\u001b[0m\u001b[0;34m'/content/drive/My Drive/new/experiment4_feature_extraction.keras'\u001b[0m\u001b[0;34m,\u001b[0m \u001b[0mcustom_objects\u001b[0m\u001b[0;34m=\u001b[0m\u001b[0;34m{\u001b[0m\u001b[0;34m'one_hot'\u001b[0m \u001b[0;34m:\u001b[0m \u001b[0mtf\u001b[0m\u001b[0;34m.\u001b[0m\u001b[0mkeras\u001b[0m\u001b[0;34m.\u001b[0m\u001b[0mbackend\u001b[0m\u001b[0;34m.\u001b[0m\u001b[0mone_hot\u001b[0m\u001b[0;34m}\u001b[0m\u001b[0;34m)\u001b[0m\u001b[0;34m)\u001b[0m\u001b[0;34m\u001b[0m\u001b[0;34m\u001b[0m\u001b[0m\n\u001b[0m",
      "\u001b[0;32m/usr/local/lib/python3.10/dist-packages/keras/src/saving/saving_api.py\u001b[0m in \u001b[0;36mload_model\u001b[0;34m(filepath, custom_objects, compile, safe_mode, **kwargs)\u001b[0m\n\u001b[1;32m    252\u001b[0m                 \u001b[0;34mf\"with the native Keras format: {list(kwargs.keys())}\"\u001b[0m\u001b[0;34m\u001b[0m\u001b[0;34m\u001b[0m\u001b[0m\n\u001b[1;32m    253\u001b[0m             )\n\u001b[0;32m--> 254\u001b[0;31m         return saving_lib.load_model(\n\u001b[0m\u001b[1;32m    255\u001b[0m             \u001b[0mfilepath\u001b[0m\u001b[0;34m,\u001b[0m\u001b[0;34m\u001b[0m\u001b[0;34m\u001b[0m\u001b[0m\n\u001b[1;32m    256\u001b[0m             \u001b[0mcustom_objects\u001b[0m\u001b[0;34m=\u001b[0m\u001b[0mcustom_objects\u001b[0m\u001b[0;34m,\u001b[0m\u001b[0;34m\u001b[0m\u001b[0;34m\u001b[0m\u001b[0m\n",
      "\u001b[0;32m/usr/local/lib/python3.10/dist-packages/keras/src/saving/saving_lib.py\u001b[0m in \u001b[0;36mload_model\u001b[0;34m(filepath, custom_objects, compile, safe_mode)\u001b[0m\n\u001b[1;32m    279\u001b[0m \u001b[0;34m\u001b[0m\u001b[0m\n\u001b[1;32m    280\u001b[0m     \u001b[0;32mexcept\u001b[0m \u001b[0mException\u001b[0m \u001b[0;32mas\u001b[0m \u001b[0me\u001b[0m\u001b[0;34m:\u001b[0m\u001b[0;34m\u001b[0m\u001b[0;34m\u001b[0m\u001b[0m\n\u001b[0;32m--> 281\u001b[0;31m         \u001b[0;32mraise\u001b[0m \u001b[0me\u001b[0m\u001b[0;34m\u001b[0m\u001b[0;34m\u001b[0m\u001b[0m\n\u001b[0m\u001b[1;32m    282\u001b[0m     \u001b[0;32melse\u001b[0m\u001b[0;34m:\u001b[0m\u001b[0;34m\u001b[0m\u001b[0;34m\u001b[0m\u001b[0m\n\u001b[1;32m    283\u001b[0m         \u001b[0;32mreturn\u001b[0m \u001b[0mmodel\u001b[0m\u001b[0;34m\u001b[0m\u001b[0;34m\u001b[0m\u001b[0m\n",
      "\u001b[0;32m/usr/local/lib/python3.10/dist-packages/keras/src/saving/saving_lib.py\u001b[0m in \u001b[0;36mload_model\u001b[0;34m(filepath, custom_objects, compile, safe_mode)\u001b[0m\n\u001b[1;32m    244\u001b[0m             \u001b[0;31m# Construct the model from the configuration file in the archive.\u001b[0m\u001b[0;34m\u001b[0m\u001b[0;34m\u001b[0m\u001b[0m\n\u001b[1;32m    245\u001b[0m             \u001b[0;32mwith\u001b[0m \u001b[0mObjectSharingScope\u001b[0m\u001b[0;34m(\u001b[0m\u001b[0;34m)\u001b[0m\u001b[0;34m:\u001b[0m\u001b[0;34m\u001b[0m\u001b[0;34m\u001b[0m\u001b[0m\n\u001b[0;32m--> 246\u001b[0;31m                 model = deserialize_keras_object(\n\u001b[0m\u001b[1;32m    247\u001b[0m                     \u001b[0mconfig_dict\u001b[0m\u001b[0;34m,\u001b[0m \u001b[0mcustom_objects\u001b[0m\u001b[0;34m,\u001b[0m \u001b[0msafe_mode\u001b[0m\u001b[0;34m=\u001b[0m\u001b[0msafe_mode\u001b[0m\u001b[0;34m\u001b[0m\u001b[0;34m\u001b[0m\u001b[0m\n\u001b[1;32m    248\u001b[0m                 )\n",
      "\u001b[0;32m/usr/local/lib/python3.10/dist-packages/keras/src/saving/serialization_lib.py\u001b[0m in \u001b[0;36mdeserialize_keras_object\u001b[0;34m(config, custom_objects, safe_mode, **kwargs)\u001b[0m\n\u001b[1;32m    726\u001b[0m     \u001b[0msafe_mode_scope\u001b[0m \u001b[0;34m=\u001b[0m \u001b[0mSafeModeScope\u001b[0m\u001b[0;34m(\u001b[0m\u001b[0msafe_mode\u001b[0m\u001b[0;34m)\u001b[0m\u001b[0;34m\u001b[0m\u001b[0;34m\u001b[0m\u001b[0m\n\u001b[1;32m    727\u001b[0m     \u001b[0;32mwith\u001b[0m \u001b[0mcustom_obj_scope\u001b[0m\u001b[0;34m,\u001b[0m \u001b[0msafe_mode_scope\u001b[0m\u001b[0;34m:\u001b[0m\u001b[0;34m\u001b[0m\u001b[0;34m\u001b[0m\u001b[0m\n\u001b[0;32m--> 728\u001b[0;31m         \u001b[0minstance\u001b[0m \u001b[0;34m=\u001b[0m \u001b[0mcls\u001b[0m\u001b[0;34m.\u001b[0m\u001b[0mfrom_config\u001b[0m\u001b[0;34m(\u001b[0m\u001b[0minner_config\u001b[0m\u001b[0;34m)\u001b[0m\u001b[0;34m\u001b[0m\u001b[0;34m\u001b[0m\u001b[0m\n\u001b[0m\u001b[1;32m    729\u001b[0m         \u001b[0mbuild_config\u001b[0m \u001b[0;34m=\u001b[0m \u001b[0mconfig\u001b[0m\u001b[0;34m.\u001b[0m\u001b[0mget\u001b[0m\u001b[0;34m(\u001b[0m\u001b[0;34m\"build_config\"\u001b[0m\u001b[0;34m,\u001b[0m \u001b[0;32mNone\u001b[0m\u001b[0;34m)\u001b[0m\u001b[0;34m\u001b[0m\u001b[0;34m\u001b[0m\u001b[0m\n\u001b[1;32m    730\u001b[0m         \u001b[0;32mif\u001b[0m \u001b[0mbuild_config\u001b[0m\u001b[0;34m:\u001b[0m\u001b[0;34m\u001b[0m\u001b[0;34m\u001b[0m\u001b[0m\n",
      "\u001b[0;32m/usr/local/lib/python3.10/dist-packages/keras/src/engine/training.py\u001b[0m in \u001b[0;36mfrom_config\u001b[0;34m(cls, config, custom_objects)\u001b[0m\n\u001b[1;32m   3328\u001b[0m                 \u001b[0;31m# Revive Functional model\u001b[0m\u001b[0;34m\u001b[0m\u001b[0;34m\u001b[0m\u001b[0m\n\u001b[1;32m   3329\u001b[0m                 \u001b[0;31m# (but not Functional subclasses with a custom __init__)\u001b[0m\u001b[0;34m\u001b[0m\u001b[0;34m\u001b[0m\u001b[0m\n\u001b[0;32m-> 3330\u001b[0;31m                 inputs, outputs, layers = functional.reconstruct_from_config(\n\u001b[0m\u001b[1;32m   3331\u001b[0m                     \u001b[0mconfig\u001b[0m\u001b[0;34m,\u001b[0m \u001b[0mcustom_objects\u001b[0m\u001b[0;34m\u001b[0m\u001b[0;34m\u001b[0m\u001b[0m\n\u001b[1;32m   3332\u001b[0m                 )\n",
      "\u001b[0;32m/usr/local/lib/python3.10/dist-packages/keras/src/engine/functional.py\u001b[0m in \u001b[0;36mreconstruct_from_config\u001b[0;34m(config, custom_objects, created_layers)\u001b[0m\n\u001b[1;32m   1491\u001b[0m     \u001b[0;31m# First, we create all layers and enqueue nodes to be processed\u001b[0m\u001b[0;34m\u001b[0m\u001b[0;34m\u001b[0m\u001b[0m\n\u001b[1;32m   1492\u001b[0m     \u001b[0;32mfor\u001b[0m \u001b[0mlayer_data\u001b[0m \u001b[0;32min\u001b[0m \u001b[0mconfig\u001b[0m\u001b[0;34m[\u001b[0m\u001b[0;34m\"layers\"\u001b[0m\u001b[0;34m]\u001b[0m\u001b[0;34m:\u001b[0m\u001b[0;34m\u001b[0m\u001b[0;34m\u001b[0m\u001b[0m\n\u001b[0;32m-> 1493\u001b[0;31m         \u001b[0mprocess_layer\u001b[0m\u001b[0;34m(\u001b[0m\u001b[0mlayer_data\u001b[0m\u001b[0;34m)\u001b[0m\u001b[0;34m\u001b[0m\u001b[0;34m\u001b[0m\u001b[0m\n\u001b[0m\u001b[1;32m   1494\u001b[0m     \u001b[0;31m# Then we process nodes in order of layer depth.\u001b[0m\u001b[0;34m\u001b[0m\u001b[0;34m\u001b[0m\u001b[0m\n\u001b[1;32m   1495\u001b[0m     \u001b[0;31m# Nodes that cannot yet be processed (if the inbound node\u001b[0m\u001b[0;34m\u001b[0m\u001b[0;34m\u001b[0m\u001b[0m\n",
      "\u001b[0;32m/usr/local/lib/python3.10/dist-packages/keras/src/engine/functional.py\u001b[0m in \u001b[0;36mprocess_layer\u001b[0;34m(layer_data)\u001b[0m\n\u001b[1;32m   1472\u001b[0m             \u001b[0;32mfrom\u001b[0m \u001b[0mkeras\u001b[0m\u001b[0;34m.\u001b[0m\u001b[0msrc\u001b[0m\u001b[0;34m.\u001b[0m\u001b[0mlayers\u001b[0m \u001b[0;32mimport\u001b[0m \u001b[0mdeserialize\u001b[0m \u001b[0;32mas\u001b[0m \u001b[0mdeserialize_layer\u001b[0m\u001b[0;34m\u001b[0m\u001b[0;34m\u001b[0m\u001b[0m\n\u001b[1;32m   1473\u001b[0m \u001b[0;34m\u001b[0m\u001b[0m\n\u001b[0;32m-> 1474\u001b[0;31m             \u001b[0mlayer\u001b[0m \u001b[0;34m=\u001b[0m \u001b[0mdeserialize_layer\u001b[0m\u001b[0;34m(\u001b[0m\u001b[0mlayer_data\u001b[0m\u001b[0;34m,\u001b[0m \u001b[0mcustom_objects\u001b[0m\u001b[0;34m=\u001b[0m\u001b[0mcustom_objects\u001b[0m\u001b[0;34m)\u001b[0m\u001b[0;34m\u001b[0m\u001b[0;34m\u001b[0m\u001b[0m\n\u001b[0m\u001b[1;32m   1475\u001b[0m             \u001b[0mcreated_layers\u001b[0m\u001b[0;34m[\u001b[0m\u001b[0mlayer_name\u001b[0m\u001b[0;34m]\u001b[0m \u001b[0;34m=\u001b[0m \u001b[0mlayer\u001b[0m\u001b[0;34m\u001b[0m\u001b[0;34m\u001b[0m\u001b[0m\n\u001b[1;32m   1476\u001b[0m \u001b[0;34m\u001b[0m\u001b[0m\n",
      "\u001b[0;32m/usr/local/lib/python3.10/dist-packages/keras/src/layers/serialization.py\u001b[0m in \u001b[0;36mdeserialize\u001b[0;34m(config, custom_objects, use_legacy_format)\u001b[0m\n\u001b[1;32m    274\u001b[0m         )\n\u001b[1;32m    275\u001b[0m \u001b[0;34m\u001b[0m\u001b[0m\n\u001b[0;32m--> 276\u001b[0;31m     return serialization_lib.deserialize_keras_object(\n\u001b[0m\u001b[1;32m    277\u001b[0m         \u001b[0mconfig\u001b[0m\u001b[0;34m,\u001b[0m\u001b[0;34m\u001b[0m\u001b[0;34m\u001b[0m\u001b[0m\n\u001b[1;32m    278\u001b[0m         \u001b[0mmodule_objects\u001b[0m\u001b[0;34m=\u001b[0m\u001b[0mLOCAL\u001b[0m\u001b[0;34m.\u001b[0m\u001b[0mALL_OBJECTS\u001b[0m\u001b[0;34m,\u001b[0m\u001b[0;34m\u001b[0m\u001b[0;34m\u001b[0m\u001b[0m\n",
      "\u001b[0;32m/usr/local/lib/python3.10/dist-packages/keras/src/saving/serialization_lib.py\u001b[0m in \u001b[0;36mdeserialize_keras_object\u001b[0;34m(config, custom_objects, safe_mode, **kwargs)\u001b[0m\n\u001b[1;32m    607\u001b[0m                     \u001b[0mcustom_objects\u001b[0m\u001b[0;34m=\u001b[0m\u001b[0mcustom_objects\u001b[0m\u001b[0;34m,\u001b[0m\u001b[0;34m\u001b[0m\u001b[0;34m\u001b[0m\u001b[0m\n\u001b[1;32m    608\u001b[0m                 )\n\u001b[0;32m--> 609\u001b[0;31m             return deserialize_keras_object(\n\u001b[0m\u001b[1;32m    610\u001b[0m                 serialize_with_public_class(\n\u001b[1;32m    611\u001b[0m                     \u001b[0mmodule_objects\u001b[0m\u001b[0;34m[\u001b[0m\u001b[0mconfig\u001b[0m\u001b[0;34m]\u001b[0m\u001b[0;34m,\u001b[0m \u001b[0minner_config\u001b[0m\u001b[0;34m=\u001b[0m\u001b[0minner_config\u001b[0m\u001b[0;34m\u001b[0m\u001b[0;34m\u001b[0m\u001b[0m\n",
      "\u001b[0;32m/usr/local/lib/python3.10/dist-packages/keras/src/saving/serialization_lib.py\u001b[0m in \u001b[0;36mdeserialize_keras_object\u001b[0;34m(config, custom_objects, safe_mode, **kwargs)\u001b[0m\n\u001b[1;32m    726\u001b[0m     \u001b[0msafe_mode_scope\u001b[0m \u001b[0;34m=\u001b[0m \u001b[0mSafeModeScope\u001b[0m\u001b[0;34m(\u001b[0m\u001b[0msafe_mode\u001b[0m\u001b[0;34m)\u001b[0m\u001b[0;34m\u001b[0m\u001b[0;34m\u001b[0m\u001b[0m\n\u001b[1;32m    727\u001b[0m     \u001b[0;32mwith\u001b[0m \u001b[0mcustom_obj_scope\u001b[0m\u001b[0;34m,\u001b[0m \u001b[0msafe_mode_scope\u001b[0m\u001b[0;34m:\u001b[0m\u001b[0;34m\u001b[0m\u001b[0;34m\u001b[0m\u001b[0m\n\u001b[0;32m--> 728\u001b[0;31m         \u001b[0minstance\u001b[0m \u001b[0;34m=\u001b[0m \u001b[0mcls\u001b[0m\u001b[0;34m.\u001b[0m\u001b[0mfrom_config\u001b[0m\u001b[0;34m(\u001b[0m\u001b[0minner_config\u001b[0m\u001b[0;34m)\u001b[0m\u001b[0;34m\u001b[0m\u001b[0;34m\u001b[0m\u001b[0m\n\u001b[0m\u001b[1;32m    729\u001b[0m         \u001b[0mbuild_config\u001b[0m \u001b[0;34m=\u001b[0m \u001b[0mconfig\u001b[0m\u001b[0;34m.\u001b[0m\u001b[0mget\u001b[0m\u001b[0;34m(\u001b[0m\u001b[0;34m\"build_config\"\u001b[0m\u001b[0;34m,\u001b[0m \u001b[0;32mNone\u001b[0m\u001b[0;34m)\u001b[0m\u001b[0;34m\u001b[0m\u001b[0;34m\u001b[0m\u001b[0m\n\u001b[1;32m    730\u001b[0m         \u001b[0;32mif\u001b[0m \u001b[0mbuild_config\u001b[0m\u001b[0;34m:\u001b[0m\u001b[0;34m\u001b[0m\u001b[0;34m\u001b[0m\u001b[0m\n",
      "\u001b[0;32m/usr/local/lib/python3.10/dist-packages/keras/src/engine/training.py\u001b[0m in \u001b[0;36mfrom_config\u001b[0;34m(cls, config, custom_objects)\u001b[0m\n\u001b[1;32m   3328\u001b[0m                 \u001b[0;31m# Revive Functional model\u001b[0m\u001b[0;34m\u001b[0m\u001b[0;34m\u001b[0m\u001b[0m\n\u001b[1;32m   3329\u001b[0m                 \u001b[0;31m# (but not Functional subclasses with a custom __init__)\u001b[0m\u001b[0;34m\u001b[0m\u001b[0;34m\u001b[0m\u001b[0m\n\u001b[0;32m-> 3330\u001b[0;31m                 inputs, outputs, layers = functional.reconstruct_from_config(\n\u001b[0m\u001b[1;32m   3331\u001b[0m                     \u001b[0mconfig\u001b[0m\u001b[0;34m,\u001b[0m \u001b[0mcustom_objects\u001b[0m\u001b[0;34m\u001b[0m\u001b[0;34m\u001b[0m\u001b[0m\n\u001b[1;32m   3332\u001b[0m                 )\n",
      "\u001b[0;32m/usr/local/lib/python3.10/dist-packages/keras/src/engine/functional.py\u001b[0m in \u001b[0;36mreconstruct_from_config\u001b[0;34m(config, custom_objects, created_layers)\u001b[0m\n\u001b[1;32m   1503\u001b[0m                 \u001b[0;32mwhile\u001b[0m \u001b[0mlayer_nodes\u001b[0m\u001b[0;34m:\u001b[0m\u001b[0;34m\u001b[0m\u001b[0;34m\u001b[0m\u001b[0m\n\u001b[1;32m   1504\u001b[0m                     \u001b[0mnode_data\u001b[0m \u001b[0;34m=\u001b[0m \u001b[0mlayer_nodes\u001b[0m\u001b[0;34m[\u001b[0m\u001b[0;36m0\u001b[0m\u001b[0;34m]\u001b[0m\u001b[0;34m\u001b[0m\u001b[0;34m\u001b[0m\u001b[0m\n\u001b[0;32m-> 1505\u001b[0;31m                     \u001b[0;32mif\u001b[0m \u001b[0mprocess_node\u001b[0m\u001b[0;34m(\u001b[0m\u001b[0mlayer\u001b[0m\u001b[0;34m,\u001b[0m \u001b[0mnode_data\u001b[0m\u001b[0;34m)\u001b[0m\u001b[0;34m:\u001b[0m\u001b[0;34m\u001b[0m\u001b[0;34m\u001b[0m\u001b[0m\n\u001b[0m\u001b[1;32m   1506\u001b[0m                         \u001b[0mlayer_nodes\u001b[0m\u001b[0;34m.\u001b[0m\u001b[0mpop\u001b[0m\u001b[0;34m(\u001b[0m\u001b[0;36m0\u001b[0m\u001b[0;34m)\u001b[0m\u001b[0;34m\u001b[0m\u001b[0;34m\u001b[0m\u001b[0m\n\u001b[1;32m   1507\u001b[0m                     \u001b[0;32melse\u001b[0m\u001b[0;34m:\u001b[0m\u001b[0;34m\u001b[0m\u001b[0;34m\u001b[0m\u001b[0m\n",
      "\u001b[0;32m/usr/local/lib/python3.10/dist-packages/keras/src/engine/functional.py\u001b[0m in \u001b[0;36mprocess_node\u001b[0;34m(layer, node_data)\u001b[0m\n\u001b[1;32m   1443\u001b[0m                     \u001b[0minput_tensors\u001b[0m\u001b[0;34m\u001b[0m\u001b[0;34m\u001b[0m\u001b[0m\n\u001b[1;32m   1444\u001b[0m                 )\n\u001b[0;32m-> 1445\u001b[0;31m             \u001b[0moutput_tensors\u001b[0m \u001b[0;34m=\u001b[0m \u001b[0mlayer\u001b[0m\u001b[0;34m(\u001b[0m\u001b[0minput_tensors\u001b[0m\u001b[0;34m,\u001b[0m \u001b[0;34m**\u001b[0m\u001b[0mkwargs\u001b[0m\u001b[0;34m)\u001b[0m\u001b[0;34m\u001b[0m\u001b[0;34m\u001b[0m\u001b[0m\n\u001b[0m\u001b[1;32m   1446\u001b[0m \u001b[0;34m\u001b[0m\u001b[0m\n\u001b[1;32m   1447\u001b[0m             \u001b[0;31m# Update node index map.\u001b[0m\u001b[0;34m\u001b[0m\u001b[0;34m\u001b[0m\u001b[0m\n",
      "\u001b[0;31mTypeError\u001b[0m: 'str' object is not callable"
     ]
    }
   ],
   "source": [
    "evaluate_model( tf.keras.models.load_model('/content/drive/My Drive/new/experiment4_feature_extraction.keras', custom_objects={'one_hot' : tf.keras.backend.one_hot}))"
   ]
  },
  {
   "cell_type": "code",
   "execution_count": 23,
   "metadata": {
    "colab": {
     "base_uri": "https://localhost:8080/",
     "height": 356
    },
    "id": "OcccvB-HEN2S",
    "outputId": "5ad7d1c7-a8d5-411d-8dc1-eb1156581ed6"
   },
   "outputs": [
    {
     "ename": "TypeError",
     "evalue": "'str' object is not callable",
     "output_type": "error",
     "traceback": [
      "\u001b[0;31m---------------------------------------------------------------------------\u001b[0m",
      "\u001b[0;31mTypeError\u001b[0m                                 Traceback (most recent call last)",
      "\u001b[0;32m<ipython-input-23-0db9b3a74c1a>\u001b[0m in \u001b[0;36m<cell line: 1>\u001b[0;34m()\u001b[0m\n\u001b[0;32m----> 1\u001b[0;31m \u001b[0mmodel\u001b[0m \u001b[0;34m=\u001b[0m \u001b[0mkeras\u001b[0m\u001b[0;34m.\u001b[0m\u001b[0mmodels\u001b[0m\u001b[0;34m.\u001b[0m\u001b[0mload_model\u001b[0m\u001b[0;34m(\u001b[0m\u001b[0;34m'/content/drive/My Drive/new/feature4.keras'\u001b[0m\u001b[0;34m)\u001b[0m\u001b[0;34m\u001b[0m\u001b[0;34m\u001b[0m\u001b[0m\n\u001b[0m\u001b[1;32m      2\u001b[0m \u001b[0mevaluate_model\u001b[0m\u001b[0;34m(\u001b[0m \u001b[0mtf\u001b[0m\u001b[0;34m.\u001b[0m\u001b[0mkeras\u001b[0m\u001b[0;34m.\u001b[0m\u001b[0mmodels\u001b[0m\u001b[0;34m.\u001b[0m\u001b[0mload_model\u001b[0m\u001b[0;34m(\u001b[0m\u001b[0;34m'/content/drive/My Drive/new/experiment4_feature_extraction.keras'\u001b[0m\u001b[0;34m)\u001b[0m\u001b[0;34m)\u001b[0m\u001b[0;34m\u001b[0m\u001b[0;34m\u001b[0m\u001b[0m\n",
      "\u001b[0;32m/usr/local/lib/python3.10/dist-packages/keras/src/saving/saving_api.py\u001b[0m in \u001b[0;36mload_model\u001b[0;34m(filepath, custom_objects, compile, safe_mode, **kwargs)\u001b[0m\n\u001b[1;32m    252\u001b[0m                 \u001b[0;34mf\"with the native Keras format: {list(kwargs.keys())}\"\u001b[0m\u001b[0;34m\u001b[0m\u001b[0;34m\u001b[0m\u001b[0m\n\u001b[1;32m    253\u001b[0m             )\n\u001b[0;32m--> 254\u001b[0;31m         return saving_lib.load_model(\n\u001b[0m\u001b[1;32m    255\u001b[0m             \u001b[0mfilepath\u001b[0m\u001b[0;34m,\u001b[0m\u001b[0;34m\u001b[0m\u001b[0;34m\u001b[0m\u001b[0m\n\u001b[1;32m    256\u001b[0m             \u001b[0mcustom_objects\u001b[0m\u001b[0;34m=\u001b[0m\u001b[0mcustom_objects\u001b[0m\u001b[0;34m,\u001b[0m\u001b[0;34m\u001b[0m\u001b[0;34m\u001b[0m\u001b[0m\n",
      "\u001b[0;32m/usr/local/lib/python3.10/dist-packages/keras/src/saving/saving_lib.py\u001b[0m in \u001b[0;36mload_model\u001b[0;34m(filepath, custom_objects, compile, safe_mode)\u001b[0m\n\u001b[1;32m    279\u001b[0m \u001b[0;34m\u001b[0m\u001b[0m\n\u001b[1;32m    280\u001b[0m     \u001b[0;32mexcept\u001b[0m \u001b[0mException\u001b[0m \u001b[0;32mas\u001b[0m \u001b[0me\u001b[0m\u001b[0;34m:\u001b[0m\u001b[0;34m\u001b[0m\u001b[0;34m\u001b[0m\u001b[0m\n\u001b[0;32m--> 281\u001b[0;31m         \u001b[0;32mraise\u001b[0m \u001b[0me\u001b[0m\u001b[0;34m\u001b[0m\u001b[0;34m\u001b[0m\u001b[0m\n\u001b[0m\u001b[1;32m    282\u001b[0m     \u001b[0;32melse\u001b[0m\u001b[0;34m:\u001b[0m\u001b[0;34m\u001b[0m\u001b[0;34m\u001b[0m\u001b[0m\n\u001b[1;32m    283\u001b[0m         \u001b[0;32mreturn\u001b[0m \u001b[0mmodel\u001b[0m\u001b[0;34m\u001b[0m\u001b[0;34m\u001b[0m\u001b[0m\n",
      "\u001b[0;32m/usr/local/lib/python3.10/dist-packages/keras/src/saving/saving_lib.py\u001b[0m in \u001b[0;36mload_model\u001b[0;34m(filepath, custom_objects, compile, safe_mode)\u001b[0m\n\u001b[1;32m    244\u001b[0m             \u001b[0;31m# Construct the model from the configuration file in the archive.\u001b[0m\u001b[0;34m\u001b[0m\u001b[0;34m\u001b[0m\u001b[0m\n\u001b[1;32m    245\u001b[0m             \u001b[0;32mwith\u001b[0m \u001b[0mObjectSharingScope\u001b[0m\u001b[0;34m(\u001b[0m\u001b[0;34m)\u001b[0m\u001b[0;34m:\u001b[0m\u001b[0;34m\u001b[0m\u001b[0;34m\u001b[0m\u001b[0m\n\u001b[0;32m--> 246\u001b[0;31m                 model = deserialize_keras_object(\n\u001b[0m\u001b[1;32m    247\u001b[0m                     \u001b[0mconfig_dict\u001b[0m\u001b[0;34m,\u001b[0m \u001b[0mcustom_objects\u001b[0m\u001b[0;34m,\u001b[0m \u001b[0msafe_mode\u001b[0m\u001b[0;34m=\u001b[0m\u001b[0msafe_mode\u001b[0m\u001b[0;34m\u001b[0m\u001b[0;34m\u001b[0m\u001b[0m\n\u001b[1;32m    248\u001b[0m                 )\n",
      "\u001b[0;32m/usr/local/lib/python3.10/dist-packages/keras/src/saving/serialization_lib.py\u001b[0m in \u001b[0;36mdeserialize_keras_object\u001b[0;34m(config, custom_objects, safe_mode, **kwargs)\u001b[0m\n\u001b[1;32m    726\u001b[0m     \u001b[0msafe_mode_scope\u001b[0m \u001b[0;34m=\u001b[0m \u001b[0mSafeModeScope\u001b[0m\u001b[0;34m(\u001b[0m\u001b[0msafe_mode\u001b[0m\u001b[0;34m)\u001b[0m\u001b[0;34m\u001b[0m\u001b[0;34m\u001b[0m\u001b[0m\n\u001b[1;32m    727\u001b[0m     \u001b[0;32mwith\u001b[0m \u001b[0mcustom_obj_scope\u001b[0m\u001b[0;34m,\u001b[0m \u001b[0msafe_mode_scope\u001b[0m\u001b[0;34m:\u001b[0m\u001b[0;34m\u001b[0m\u001b[0;34m\u001b[0m\u001b[0m\n\u001b[0;32m--> 728\u001b[0;31m         \u001b[0minstance\u001b[0m \u001b[0;34m=\u001b[0m \u001b[0mcls\u001b[0m\u001b[0;34m.\u001b[0m\u001b[0mfrom_config\u001b[0m\u001b[0;34m(\u001b[0m\u001b[0minner_config\u001b[0m\u001b[0;34m)\u001b[0m\u001b[0;34m\u001b[0m\u001b[0;34m\u001b[0m\u001b[0m\n\u001b[0m\u001b[1;32m    729\u001b[0m         \u001b[0mbuild_config\u001b[0m \u001b[0;34m=\u001b[0m \u001b[0mconfig\u001b[0m\u001b[0;34m.\u001b[0m\u001b[0mget\u001b[0m\u001b[0;34m(\u001b[0m\u001b[0;34m\"build_config\"\u001b[0m\u001b[0;34m,\u001b[0m \u001b[0;32mNone\u001b[0m\u001b[0;34m)\u001b[0m\u001b[0;34m\u001b[0m\u001b[0;34m\u001b[0m\u001b[0m\n\u001b[1;32m    730\u001b[0m         \u001b[0;32mif\u001b[0m \u001b[0mbuild_config\u001b[0m\u001b[0;34m:\u001b[0m\u001b[0;34m\u001b[0m\u001b[0;34m\u001b[0m\u001b[0m\n",
      "\u001b[0;32m/usr/local/lib/python3.10/dist-packages/keras/src/engine/training.py\u001b[0m in \u001b[0;36mfrom_config\u001b[0;34m(cls, config, custom_objects)\u001b[0m\n\u001b[1;32m   3328\u001b[0m                 \u001b[0;31m# Revive Functional model\u001b[0m\u001b[0;34m\u001b[0m\u001b[0;34m\u001b[0m\u001b[0m\n\u001b[1;32m   3329\u001b[0m                 \u001b[0;31m# (but not Functional subclasses with a custom __init__)\u001b[0m\u001b[0;34m\u001b[0m\u001b[0;34m\u001b[0m\u001b[0m\n\u001b[0;32m-> 3330\u001b[0;31m                 inputs, outputs, layers = functional.reconstruct_from_config(\n\u001b[0m\u001b[1;32m   3331\u001b[0m                     \u001b[0mconfig\u001b[0m\u001b[0;34m,\u001b[0m \u001b[0mcustom_objects\u001b[0m\u001b[0;34m\u001b[0m\u001b[0;34m\u001b[0m\u001b[0m\n\u001b[1;32m   3332\u001b[0m                 )\n",
      "\u001b[0;32m/usr/local/lib/python3.10/dist-packages/keras/src/engine/functional.py\u001b[0m in \u001b[0;36mreconstruct_from_config\u001b[0;34m(config, custom_objects, created_layers)\u001b[0m\n\u001b[1;32m   1491\u001b[0m     \u001b[0;31m# First, we create all layers and enqueue nodes to be processed\u001b[0m\u001b[0;34m\u001b[0m\u001b[0;34m\u001b[0m\u001b[0m\n\u001b[1;32m   1492\u001b[0m     \u001b[0;32mfor\u001b[0m \u001b[0mlayer_data\u001b[0m \u001b[0;32min\u001b[0m \u001b[0mconfig\u001b[0m\u001b[0;34m[\u001b[0m\u001b[0;34m\"layers\"\u001b[0m\u001b[0;34m]\u001b[0m\u001b[0;34m:\u001b[0m\u001b[0;34m\u001b[0m\u001b[0;34m\u001b[0m\u001b[0m\n\u001b[0;32m-> 1493\u001b[0;31m         \u001b[0mprocess_layer\u001b[0m\u001b[0;34m(\u001b[0m\u001b[0mlayer_data\u001b[0m\u001b[0;34m)\u001b[0m\u001b[0;34m\u001b[0m\u001b[0;34m\u001b[0m\u001b[0m\n\u001b[0m\u001b[1;32m   1494\u001b[0m     \u001b[0;31m# Then we process nodes in order of layer depth.\u001b[0m\u001b[0;34m\u001b[0m\u001b[0;34m\u001b[0m\u001b[0m\n\u001b[1;32m   1495\u001b[0m     \u001b[0;31m# Nodes that cannot yet be processed (if the inbound node\u001b[0m\u001b[0;34m\u001b[0m\u001b[0;34m\u001b[0m\u001b[0m\n",
      "\u001b[0;32m/usr/local/lib/python3.10/dist-packages/keras/src/engine/functional.py\u001b[0m in \u001b[0;36mprocess_layer\u001b[0;34m(layer_data)\u001b[0m\n\u001b[1;32m   1472\u001b[0m             \u001b[0;32mfrom\u001b[0m \u001b[0mkeras\u001b[0m\u001b[0;34m.\u001b[0m\u001b[0msrc\u001b[0m\u001b[0;34m.\u001b[0m\u001b[0mlayers\u001b[0m \u001b[0;32mimport\u001b[0m \u001b[0mdeserialize\u001b[0m \u001b[0;32mas\u001b[0m \u001b[0mdeserialize_layer\u001b[0m\u001b[0;34m\u001b[0m\u001b[0;34m\u001b[0m\u001b[0m\n\u001b[1;32m   1473\u001b[0m \u001b[0;34m\u001b[0m\u001b[0m\n\u001b[0;32m-> 1474\u001b[0;31m             \u001b[0mlayer\u001b[0m \u001b[0;34m=\u001b[0m \u001b[0mdeserialize_layer\u001b[0m\u001b[0;34m(\u001b[0m\u001b[0mlayer_data\u001b[0m\u001b[0;34m,\u001b[0m \u001b[0mcustom_objects\u001b[0m\u001b[0;34m=\u001b[0m\u001b[0mcustom_objects\u001b[0m\u001b[0;34m)\u001b[0m\u001b[0;34m\u001b[0m\u001b[0;34m\u001b[0m\u001b[0m\n\u001b[0m\u001b[1;32m   1475\u001b[0m             \u001b[0mcreated_layers\u001b[0m\u001b[0;34m[\u001b[0m\u001b[0mlayer_name\u001b[0m\u001b[0;34m]\u001b[0m \u001b[0;34m=\u001b[0m \u001b[0mlayer\u001b[0m\u001b[0;34m\u001b[0m\u001b[0;34m\u001b[0m\u001b[0m\n\u001b[1;32m   1476\u001b[0m \u001b[0;34m\u001b[0m\u001b[0m\n",
      "\u001b[0;32m/usr/local/lib/python3.10/dist-packages/keras/src/layers/serialization.py\u001b[0m in \u001b[0;36mdeserialize\u001b[0;34m(config, custom_objects, use_legacy_format)\u001b[0m\n\u001b[1;32m    274\u001b[0m         )\n\u001b[1;32m    275\u001b[0m \u001b[0;34m\u001b[0m\u001b[0m\n\u001b[0;32m--> 276\u001b[0;31m     return serialization_lib.deserialize_keras_object(\n\u001b[0m\u001b[1;32m    277\u001b[0m         \u001b[0mconfig\u001b[0m\u001b[0;34m,\u001b[0m\u001b[0;34m\u001b[0m\u001b[0;34m\u001b[0m\u001b[0m\n\u001b[1;32m    278\u001b[0m         \u001b[0mmodule_objects\u001b[0m\u001b[0;34m=\u001b[0m\u001b[0mLOCAL\u001b[0m\u001b[0;34m.\u001b[0m\u001b[0mALL_OBJECTS\u001b[0m\u001b[0;34m,\u001b[0m\u001b[0;34m\u001b[0m\u001b[0;34m\u001b[0m\u001b[0m\n",
      "\u001b[0;32m/usr/local/lib/python3.10/dist-packages/keras/src/saving/serialization_lib.py\u001b[0m in \u001b[0;36mdeserialize_keras_object\u001b[0;34m(config, custom_objects, safe_mode, **kwargs)\u001b[0m\n\u001b[1;32m    607\u001b[0m                     \u001b[0mcustom_objects\u001b[0m\u001b[0;34m=\u001b[0m\u001b[0mcustom_objects\u001b[0m\u001b[0;34m,\u001b[0m\u001b[0;34m\u001b[0m\u001b[0;34m\u001b[0m\u001b[0m\n\u001b[1;32m    608\u001b[0m                 )\n\u001b[0;32m--> 609\u001b[0;31m             return deserialize_keras_object(\n\u001b[0m\u001b[1;32m    610\u001b[0m                 serialize_with_public_class(\n\u001b[1;32m    611\u001b[0m                     \u001b[0mmodule_objects\u001b[0m\u001b[0;34m[\u001b[0m\u001b[0mconfig\u001b[0m\u001b[0;34m]\u001b[0m\u001b[0;34m,\u001b[0m \u001b[0minner_config\u001b[0m\u001b[0;34m=\u001b[0m\u001b[0minner_config\u001b[0m\u001b[0;34m\u001b[0m\u001b[0;34m\u001b[0m\u001b[0m\n",
      "\u001b[0;32m/usr/local/lib/python3.10/dist-packages/keras/src/saving/serialization_lib.py\u001b[0m in \u001b[0;36mdeserialize_keras_object\u001b[0;34m(config, custom_objects, safe_mode, **kwargs)\u001b[0m\n\u001b[1;32m    726\u001b[0m     \u001b[0msafe_mode_scope\u001b[0m \u001b[0;34m=\u001b[0m \u001b[0mSafeModeScope\u001b[0m\u001b[0;34m(\u001b[0m\u001b[0msafe_mode\u001b[0m\u001b[0;34m)\u001b[0m\u001b[0;34m\u001b[0m\u001b[0;34m\u001b[0m\u001b[0m\n\u001b[1;32m    727\u001b[0m     \u001b[0;32mwith\u001b[0m \u001b[0mcustom_obj_scope\u001b[0m\u001b[0;34m,\u001b[0m \u001b[0msafe_mode_scope\u001b[0m\u001b[0;34m:\u001b[0m\u001b[0;34m\u001b[0m\u001b[0;34m\u001b[0m\u001b[0m\n\u001b[0;32m--> 728\u001b[0;31m         \u001b[0minstance\u001b[0m \u001b[0;34m=\u001b[0m \u001b[0mcls\u001b[0m\u001b[0;34m.\u001b[0m\u001b[0mfrom_config\u001b[0m\u001b[0;34m(\u001b[0m\u001b[0minner_config\u001b[0m\u001b[0;34m)\u001b[0m\u001b[0;34m\u001b[0m\u001b[0;34m\u001b[0m\u001b[0m\n\u001b[0m\u001b[1;32m    729\u001b[0m         \u001b[0mbuild_config\u001b[0m \u001b[0;34m=\u001b[0m \u001b[0mconfig\u001b[0m\u001b[0;34m.\u001b[0m\u001b[0mget\u001b[0m\u001b[0;34m(\u001b[0m\u001b[0;34m\"build_config\"\u001b[0m\u001b[0;34m,\u001b[0m \u001b[0;32mNone\u001b[0m\u001b[0;34m)\u001b[0m\u001b[0;34m\u001b[0m\u001b[0;34m\u001b[0m\u001b[0m\n\u001b[1;32m    730\u001b[0m         \u001b[0;32mif\u001b[0m \u001b[0mbuild_config\u001b[0m\u001b[0;34m:\u001b[0m\u001b[0;34m\u001b[0m\u001b[0;34m\u001b[0m\u001b[0m\n",
      "\u001b[0;32m/usr/local/lib/python3.10/dist-packages/keras/src/engine/training.py\u001b[0m in \u001b[0;36mfrom_config\u001b[0;34m(cls, config, custom_objects)\u001b[0m\n\u001b[1;32m   3328\u001b[0m                 \u001b[0;31m# Revive Functional model\u001b[0m\u001b[0;34m\u001b[0m\u001b[0;34m\u001b[0m\u001b[0m\n\u001b[1;32m   3329\u001b[0m                 \u001b[0;31m# (but not Functional subclasses with a custom __init__)\u001b[0m\u001b[0;34m\u001b[0m\u001b[0;34m\u001b[0m\u001b[0m\n\u001b[0;32m-> 3330\u001b[0;31m                 inputs, outputs, layers = functional.reconstruct_from_config(\n\u001b[0m\u001b[1;32m   3331\u001b[0m                     \u001b[0mconfig\u001b[0m\u001b[0;34m,\u001b[0m \u001b[0mcustom_objects\u001b[0m\u001b[0;34m\u001b[0m\u001b[0;34m\u001b[0m\u001b[0m\n\u001b[1;32m   3332\u001b[0m                 )\n",
      "\u001b[0;32m/usr/local/lib/python3.10/dist-packages/keras/src/engine/functional.py\u001b[0m in \u001b[0;36mreconstruct_from_config\u001b[0;34m(config, custom_objects, created_layers)\u001b[0m\n\u001b[1;32m   1503\u001b[0m                 \u001b[0;32mwhile\u001b[0m \u001b[0mlayer_nodes\u001b[0m\u001b[0;34m:\u001b[0m\u001b[0;34m\u001b[0m\u001b[0;34m\u001b[0m\u001b[0m\n\u001b[1;32m   1504\u001b[0m                     \u001b[0mnode_data\u001b[0m \u001b[0;34m=\u001b[0m \u001b[0mlayer_nodes\u001b[0m\u001b[0;34m[\u001b[0m\u001b[0;36m0\u001b[0m\u001b[0;34m]\u001b[0m\u001b[0;34m\u001b[0m\u001b[0;34m\u001b[0m\u001b[0m\n\u001b[0;32m-> 1505\u001b[0;31m                     \u001b[0;32mif\u001b[0m \u001b[0mprocess_node\u001b[0m\u001b[0;34m(\u001b[0m\u001b[0mlayer\u001b[0m\u001b[0;34m,\u001b[0m \u001b[0mnode_data\u001b[0m\u001b[0;34m)\u001b[0m\u001b[0;34m:\u001b[0m\u001b[0;34m\u001b[0m\u001b[0;34m\u001b[0m\u001b[0m\n\u001b[0m\u001b[1;32m   1506\u001b[0m                         \u001b[0mlayer_nodes\u001b[0m\u001b[0;34m.\u001b[0m\u001b[0mpop\u001b[0m\u001b[0;34m(\u001b[0m\u001b[0;36m0\u001b[0m\u001b[0;34m)\u001b[0m\u001b[0;34m\u001b[0m\u001b[0;34m\u001b[0m\u001b[0m\n\u001b[1;32m   1507\u001b[0m                     \u001b[0;32melse\u001b[0m\u001b[0;34m:\u001b[0m\u001b[0;34m\u001b[0m\u001b[0;34m\u001b[0m\u001b[0m\n",
      "\u001b[0;32m/usr/local/lib/python3.10/dist-packages/keras/src/engine/functional.py\u001b[0m in \u001b[0;36mprocess_node\u001b[0;34m(layer, node_data)\u001b[0m\n\u001b[1;32m   1443\u001b[0m                     \u001b[0minput_tensors\u001b[0m\u001b[0;34m\u001b[0m\u001b[0;34m\u001b[0m\u001b[0m\n\u001b[1;32m   1444\u001b[0m                 )\n\u001b[0;32m-> 1445\u001b[0;31m             \u001b[0moutput_tensors\u001b[0m \u001b[0;34m=\u001b[0m \u001b[0mlayer\u001b[0m\u001b[0;34m(\u001b[0m\u001b[0minput_tensors\u001b[0m\u001b[0;34m,\u001b[0m \u001b[0;34m**\u001b[0m\u001b[0mkwargs\u001b[0m\u001b[0;34m)\u001b[0m\u001b[0;34m\u001b[0m\u001b[0;34m\u001b[0m\u001b[0m\n\u001b[0m\u001b[1;32m   1446\u001b[0m \u001b[0;34m\u001b[0m\u001b[0m\n\u001b[1;32m   1447\u001b[0m             \u001b[0;31m# Update node index map.\u001b[0m\u001b[0;34m\u001b[0m\u001b[0;34m\u001b[0m\u001b[0m\n",
      "\u001b[0;31mTypeError\u001b[0m: 'str' object is not callable"
     ]
    }
   ],
   "source": [
    "model = keras.models.load_model('/content/drive/My Drive/new/feature4.keras')\n",
    "evaluate_model( tf.keras.models.load_model('/content/drive/My Drive/new/experiment4_feature_extraction.keras'))"
   ]
  },
  {
   "cell_type": "markdown",
   "metadata": {
    "id": "uMUA7fIKij4t"
   },
   "source": [
    "### Experiment 5: global average pooling and two dense layers"
   ]
  },
  {
   "cell_type": "code",
   "execution_count": null,
   "metadata": {
    "id": "c5wMQADnionq"
   },
   "outputs": [],
   "source": [
    "inputs = keras.Input(shape=(IMAGE_HEIGHT, IMAGE_WIDTH, 3))\n",
    "x = keras.applications.convnext.preprocess_input(inputs)\n",
    "x = conv_base(x) # feature extraction\n",
    "x = layers.GlobalAveragePooling2D() (x)\n",
    "x = layers.Dense(512, activation='relu')(x)\n",
    "x = layers.Dense(512, activation='relu')(x)\n",
    "outputs = layers.Dense(1, activation='sigmoid')(x)\n",
    "model5 = keras.Model(inputs=inputs, outputs=outputs)\n",
    "compile_model(model5, optimizer='rmsprop')"
   ]
  },
  {
   "cell_type": "code",
   "execution_count": null,
   "metadata": {
    "id": "Fpvt4mGQjRJr"
   },
   "outputs": [],
   "source": [
    "run_model(model5, 'Experiment5_feature_extraction', epochs=50)"
   ]
  },
  {
   "cell_type": "code",
   "execution_count": null,
   "metadata": {
    "id": "A2XNveW9JaNz"
   },
   "outputs": [],
   "source": [
    "evaluate_model(tf.keras.models.load_model(GLOBAL_MODELS_FOLDER + '/Experiment5_feature_extraction.h5'))"
   ]
  },
  {
   "cell_type": "markdown",
   "metadata": {
    "id": "fdbobMaxmd6V"
   },
   "source": [
    "## Fine-tuning"
   ]
  },
  {
   "cell_type": "markdown",
   "metadata": {
    "id": "qfLBzdEGsVlP"
   },
   "source": [
    "### Experiment 1: one dense layer"
   ]
  },
  {
   "cell_type": "code",
   "execution_count": null,
   "metadata": {
    "id": "bwVIvz2fsXcb"
   },
   "outputs": [],
   "source": [
    "model1 = tf.keras.models.load_model(GLOBAL_MODELS_FOLDER + '/experiment1_feature_extraction.h5')\n",
    "\n",
    "set_trainable = False\n",
    "for layer in model1.get_layer('NASNet').layers:\n",
    "    if layer.name == 'conv5_block3_1_conv':\n",
    "        set_trainable = True\n",
    "    if set_trainable:\n",
    "        layer.trainable = True\n",
    "    else:\n",
    "        layer.trainable = False\n",
    "\n",
    "compile_model(model1, learning_rate=1e-5)"
   ]
  },
  {
   "cell_type": "code",
   "execution_count": null,
   "metadata": {
    "id": "RWrJyKwZswCv"
   },
   "outputs": [],
   "source": [
    "run_model(model1, \"experiment1_fine_tuning\", epochs=50)"
   ]
  },
  {
   "cell_type": "code",
   "execution_count": null,
   "metadata": {
    "id": "rTVer4pgLN0o"
   },
   "outputs": [],
   "source": [
    "evaluate_model(tf.keras.models.load_model(GLOBAL_MODELS_FOLDER + '/experiment1_fine_tuning.h5'))"
   ]
  },
  {
   "cell_type": "markdown",
   "metadata": {
    "id": "WHicPgZpuHBf"
   },
   "source": [
    "### Experiment 2: global average pooling"
   ]
  },
  {
   "cell_type": "code",
   "execution_count": null,
   "metadata": {
    "id": "WKwTLhrAuInU"
   },
   "outputs": [],
   "source": [
    "model4 = tf.keras.models.load_model(GLOBAL_MODELS_FOLDER + '/experiment4_feature_extraction.h5')\n",
    "\n",
    "set_trainable = False\n",
    "# fine-tune the last three elements\n",
    "for layer in model4.get_layer('resnet101v2').layers:\n",
    "    if layer.name == 'conv5_block3_1_conv':\n",
    "        set_trainable = True\n",
    "    if set_trainable:\n",
    "        layer.trainable = True\n",
    "    else:\n",
    "        layer.trainable = False\n",
    "\n",
    "compile_model(model4, learning_rate=1e-5)"
   ]
  },
  {
   "cell_type": "code",
   "execution_count": null,
   "metadata": {
    "id": "PLkewhlg7WDY"
   },
   "outputs": [],
   "source": [
    "run_model(model4, \"Experiment2_fine_tuning\")"
   ]
  },
  {
   "cell_type": "code",
   "execution_count": null,
   "metadata": {
    "id": "Q5EMGL4xMAfd"
   },
   "outputs": [],
   "source": [
    "evaluate_model(tf.keras.models.load_model(GLOBAL_MODELS_FOLDER + '/Experiment2_fine_tuning.h5'))"
   ]
  },
  {
   "cell_type": "markdown",
   "metadata": {
    "id": "C2MQr9ieC9dV"
   },
   "source": [
    "### Experiment 3: global average pooling and two dense layers"
   ]
  },
  {
   "cell_type": "code",
   "execution_count": null,
   "metadata": {
    "id": "oZYJgzIQC_Q7"
   },
   "outputs": [],
   "source": [
    "model5 = tf.keras.models.load_model(GLOBAL_MODELS_FOLDER + '/Experiment5_feature_extraction.h5')\n",
    "\n",
    "set_trainable = False\n",
    "for layer in model5.get_layer('resnet50').layers:\n",
    "    if layer.name == 'conv5_block3_1_conv':\n",
    "        set_trainable = True\n",
    "    if set_trainable:\n",
    "        layer.trainable = True\n",
    "    else:\n",
    "        layer.trainable = False\n",
    "\n",
    "compile_model(model5, optimizer='rmsprop', learning_rate=1e-5)"
   ]
  },
  {
   "cell_type": "code",
   "execution_count": null,
   "metadata": {
    "id": "KV0QeEAkDIE1"
   },
   "outputs": [],
   "source": [
    "run_model(model5, \"Experiment3_fine_tuning\", epochs=50)"
   ]
  },
  {
   "cell_type": "code",
   "execution_count": null,
   "metadata": {
    "id": "-jT75Q9lMUqJ"
   },
   "outputs": [],
   "source": [
    "evaluate_model(tf.keras.models.load_model(GLOBAL_MODELS_FOLDER + '/Experiment3_fine_tuning.h5'))"
   ]
  },
  {
   "cell_type": "markdown",
   "metadata": {
    "id": "TQA0AWinPkEu"
   },
   "source": [
    "## Remove final block (5-th block)\n",
    "Due to Colab's limitations we only took part of the original dataset, so now our dataset is small and very different from the one the pre-trained network was trained on. In this case it may be good to try to remove some of the final layers of the pre-trained network whose filters deal with finding detailed features. We will use less specific features that we find in previous levels."
   ]
  },
  {
   "cell_type": "code",
   "execution_count": null,
   "metadata": {
    "id": "6XJywktEWESX"
   },
   "outputs": [],
   "source": [
    "def get_index_by_layer_name(model, layer_name):\n",
    "  '''\n",
    "  get_index_by_layer_name is used to retrieve the index of a specific layer\n",
    "  :param model: model to check\n",
    "  :param layer_name: name of the layer we want to get the index of\n",
    "  :return: the index of the layer named as defined in layer_name\n",
    "  '''\n",
    "  for index, layer in enumerate(model.layers):\n",
    "      print(layer.name)\n",
    "      if layer.name == layer_name:\n",
    "          print(layer_name)\n",
    "          return index"
   ]
  },
  {
   "cell_type": "code",
   "execution_count": null,
   "metadata": {
    "id": "9Gk6EYWKWm9A"
   },
   "outputs": [],
   "source": [
    "conv_base = keras.applications.NASNetLarge(include_top = False, weights='imagenet', input_shape=(IMAGE_HEIGHT,IMAGE_WIDTH,3))"
   ]
  },
  {
   "cell_type": "markdown",
   "metadata": {
    "id": "HxvB7WWmRLsU"
   },
   "source": [
    "Remove the last convolutionary block of ResNet50."
   ]
  },
  {
   "cell_type": "code",
   "execution_count": null,
   "metadata": {
    "id": "TjUnPA44bIlW"
   },
   "outputs": [],
   "source": [
    "base = Model(conv_base.input, conv_base.layers[get_index_by_layer_name(conv_base, 'separable_conv_2_bn_normal_left5_18')].output, name='base')\n",
    "base.trainable = False\n",
    "base.summary()"
   ]
  },
  {
   "cell_type": "markdown",
   "metadata": {
    "id": "MHxpkLPhlRsq"
   },
   "source": [
    "### Feature extraction\n",
    "Firstly, we will try to use the new base network to extract the features; we will put a classifier on top of the base network. We couldn't afford to use the Flatten, the output of the base network is 14x14x1024, too much. So we decided to use the GlobalAveragePooling2D."
   ]
  },
  {
   "cell_type": "markdown",
   "metadata": {
    "id": "zkWQWmMdctOG"
   },
   "source": [
    "#### Experiment 1: one dense layer with 256 neurons\n",
    "In this first example we use just a Dense layer before the output layer."
   ]
  },
  {
   "cell_type": "code",
   "execution_count": null,
   "metadata": {
    "id": "MIHoNGd2cs0X"
   },
   "outputs": [],
   "source": [
    "inputs = keras.Input(shape=(IMAGE_HEIGHT, IMAGE_WIDTH, 3))\n",
    "x = keras.applications.nasnet.preprocess_input(inputs)\n",
    "x = base(x)\n",
    "x = layers.GlobalAveragePooling2D() (x)\n",
    "x = layers.Dense(256)(x)\n",
    "outputs = layers.Dense(1, activation='sigmoid')(x)\n",
    "model1 = keras.Model(inputs=inputs, outputs=outputs)\n",
    "compile_model(model1)"
   ]
  },
  {
   "cell_type": "code",
   "execution_count": null,
   "metadata": {
    "id": "AFdzFRBZddEV"
   },
   "outputs": [],
   "source": [
    "run_model(model1, \"Experiment1_remove_blocks_feature_extraction\", epochs=30)"
   ]
  },
  {
   "cell_type": "code",
   "execution_count": null,
   "metadata": {
    "id": "Uu5ZnKazcUMk"
   },
   "outputs": [],
   "source": [
    "evaluate_model(tf.keras.models.load_model(GLOBAL_MODELS_FOLDER + '/Experiment1_remove_blocks_feature_extraction.h5'))"
   ]
  },
  {
   "cell_type": "markdown",
   "metadata": {
    "id": "x65EpdK3laJV"
   },
   "source": [
    "#### Experiment 2: one dense layer with 256 neurons and dropout\n",
    "Try to use Dropout."
   ]
  },
  {
   "cell_type": "code",
   "execution_count": null,
   "metadata": {
    "id": "ahFa-aarczBa"
   },
   "outputs": [],
   "source": [
    "# define the classifier\n",
    "inputs = keras.Input(shape=(IMAGE_HEIGHT, IMAGE_WIDTH, 3))\n",
    "x = keras.applications.nasnet.preprocess_input(inputs)\n",
    "x = base(x)\n",
    "x = layers.GlobalAveragePooling2D() (x)\n",
    "x = layers.Dense(256)(x)\n",
    "x = layers.Dropout(0.5)(x)\n",
    "outputs = layers.Dense(1, activation='sigmoid')(x)\n",
    "model2 = keras.Model(inputs=inputs, outputs=outputs)\n",
    "compile_model(model2)"
   ]
  },
  {
   "cell_type": "code",
   "execution_count": null,
   "metadata": {
    "id": "KuxW_9BAfMfH"
   },
   "outputs": [],
   "source": [
    "run_model(model2, \"Experiment2_remove_blocks_feature_extraction\")"
   ]
  },
  {
   "cell_type": "code",
   "execution_count": null,
   "metadata": {
    "id": "zZXBVaBkXI-4"
   },
   "outputs": [],
   "source": [
    "evaluate_model(tf.keras.models.load_model(GLOBAL_MODELS_FOLDER + '/Experiment2_remove_blocks_feature_extraction.h5'))"
   ]
  },
  {
   "cell_type": "markdown",
   "metadata": {
    "id": "hIQinRewu3QO"
   },
   "source": [
    "#### Experiment 3: two dense layers, 256-128 neurons\n",
    "Try to make a more complex network, increasing the dense layers."
   ]
  },
  {
   "cell_type": "code",
   "execution_count": null,
   "metadata": {
    "id": "y3mzu15Iu4n9"
   },
   "outputs": [],
   "source": [
    "inputs = keras.Input(shape=(IMAGE_HEIGHT, IMAGE_WIDTH, 3))\n",
    "x = keras.applications.resnet_v2.preprocess_input(inputs)\n",
    "x = base(x)\n",
    "x = layers.GlobalAveragePooling2D() (x)\n",
    "x = layers.Dense(256)(x)\n",
    "x = layers.Dense(128)(x)\n",
    "outputs = layers.Dense(1, activation='sigmoid')(x)\n",
    "model3 = keras.Model(inputs=inputs, outputs=outputs)\n",
    "compile_model(model3)"
   ]
  },
  {
   "cell_type": "code",
   "execution_count": null,
   "metadata": {
    "id": "U6Q7rl_3wN4E"
   },
   "outputs": [],
   "source": [
    "run_model(model3, \"Experiment3_remove_blocks_feature_extraction\")"
   ]
  },
  {
   "cell_type": "code",
   "execution_count": null,
   "metadata": {
    "id": "t25fvwF6neLV"
   },
   "outputs": [],
   "source": [
    "evaluate_model(tf.keras.models.load_model(GLOBAL_MODELS_FOLDER + '/Experiment3_remove_blocks_feature_extraction.h5'))"
   ]
  },
  {
   "cell_type": "markdown",
   "metadata": {
    "id": "6O9y4rieUEDJ"
   },
   "source": [
    "#### Experiment 4: one dense layer with 512 neurons\n",
    "Try to make a more complex networks increasing the neurons of a single Dense layer. We use RMSprop that in this case give us a smoother learning curve."
   ]
  },
  {
   "cell_type": "code",
   "execution_count": null,
   "metadata": {
    "id": "qSvnTuaLUGgB"
   },
   "outputs": [],
   "source": [
    "inputs = keras.Input(shape=(IMAGE_HEIGHT, IMAGE_WIDTH, 3))\n",
    "x = keras.applications.nasnet.preprocess_input(inputs)\n",
    "x = base(x)\n",
    "x = layers.GlobalAveragePooling2D() (x)\n",
    "x = layers.Dense(512)(x)\n",
    "outputs = layers.Dense(1, activation='sigmoid')(x)\n",
    "model4 = keras.Model(inputs=inputs, outputs=outputs)\n",
    "compile_model(model4, optimizer='rmsprop', learning_rate=5e-5)"
   ]
  },
  {
   "cell_type": "code",
   "execution_count": null,
   "metadata": {
    "id": "YcRVQew0UviM"
   },
   "outputs": [],
   "source": [
    "run_model(model4, \"Experiment4_remove_blocks_feature_extraction\", epochs=50)"
   ]
  },
  {
   "cell_type": "code",
   "execution_count": null,
   "metadata": {
    "id": "0YdhyUoAF5BL"
   },
   "outputs": [],
   "source": [
    "evaluate_model(tf.keras.models.load_model(GLOBAL_MODELS_FOLDER + '/Experiment4_remove_blocks_feature_extraction.h5'))"
   ]
  },
  {
   "cell_type": "markdown",
   "metadata": {
    "id": "XB0Dzg7dk-mk"
   },
   "source": [
    "#### Experiment 5: two dense layers of 512 neurons\n",
    "Try to make a more complex networks with two fully-connected dense layer of 512 neurons. We use RMSprop that in this case give us a smoother learning curve."
   ]
  },
  {
   "cell_type": "code",
   "execution_count": null,
   "metadata": {
    "id": "8Ezo_62RmE_B"
   },
   "outputs": [],
   "source": [
    "inputs = keras.Input(shape=(IMAGE_HEIGHT, IMAGE_WIDTH, 3))\n",
    "x = keras.applications.resnet_v2.preprocess_input(inputs)\n",
    "x = base(x)\n",
    "x = layers.GlobalAveragePooling2D() (x)\n",
    "x = layers.Dense(512, activation='relu')(x)\n",
    "x = layers.Dense(512, activation='relu')(x)\n",
    "outputs = layers.Dense(1, activation='sigmoid')(x)\n",
    "model5 = keras.Model(inputs=inputs, outputs=outputs)\n",
    "compile_model(model5, optimizer='rmsprop')"
   ]
  },
  {
   "cell_type": "code",
   "execution_count": null,
   "metadata": {
    "id": "8-JskDSQmUfh"
   },
   "outputs": [],
   "source": [
    "run_model(model5, \"Experiment5_remove_blocks_feature_extraction\", epochs=50)"
   ]
  },
  {
   "cell_type": "code",
   "execution_count": null,
   "metadata": {
    "id": "GsE5QQIkucjP"
   },
   "outputs": [],
   "source": [
    "evaluate_model(tf.keras.models.load_model(GLOBAL_MODELS_FOLDER + '/Experiment5_remove_blocks_feature_extraction.h5'))"
   ]
  },
  {
   "cell_type": "markdown",
   "metadata": {
    "id": "m2nm7ZbzleHC"
   },
   "source": [
    "### Fine tuning\n",
    "Now we can fine tune the best models of the previous experiments, unfreezing some of the last layers of the base network."
   ]
  },
  {
   "cell_type": "markdown",
   "metadata": {
    "id": "7iBg3423CXy1"
   },
   "source": [
    "##### Experiment 7: one dense layer with 512 neurons"
   ]
  },
  {
   "cell_type": "code",
   "execution_count": null,
   "metadata": {
    "id": "VmLUeJrKCZh4"
   },
   "outputs": [],
   "source": [
    "model7 = tf.keras.models.load_model(GLOBAL_MODELS_FOLDER + '/Experiment4_remove_blocks_feature_extraction.h5')\n",
    "\n",
    "set_trainable = False\n",
    "for layer in model7.get_layer('base').layers:\n",
    "    if layer.name == 'conv3_block1_1_conv':\n",
    "        set_trainable = True\n",
    "    if set_trainable:\n",
    "        layer.trainable = True\n",
    "    else:\n",
    "        layer.trainable = False\n",
    "compile_model(model7, optimizer='rmsprop', learning_rate=1e-5)"
   ]
  },
  {
   "cell_type": "code",
   "execution_count": null,
   "metadata": {
    "id": "uB0uw6T2C2sL"
   },
   "outputs": [],
   "source": [
    "run_model(model7, 'Experiment7_remove_blocks_fine_tuning', epochs=30)"
   ]
  },
  {
   "cell_type": "code",
   "execution_count": null,
   "metadata": {
    "id": "EF0GnwqGG1AF"
   },
   "outputs": [],
   "source": [
    "evaluate_model(tf.keras.models.load_model(GLOBAL_MODELS_FOLDER + '/Experiment7_remove_blocks_fine_tuning.h5'))"
   ]
  },
  {
   "cell_type": "markdown",
   "metadata": {
    "id": "zD2XxA8aHY95"
   },
   "source": [
    "#### Unfreeze also the second block\n",
    "We try to unfreeze also the entire second block"
   ]
  },
  {
   "cell_type": "markdown",
   "metadata": {
    "id": "xi4JLf9hHmVL"
   },
   "source": [
    "##### Experiment 8: one dense layer with 256 neurons and dropout"
   ]
  },
  {
   "cell_type": "code",
   "execution_count": null,
   "metadata": {
    "id": "wi4YzsRjHapo"
   },
   "outputs": [],
   "source": [
    "model8 = tf.keras.models.load_model('/content/drive/My Drive/Experiment2_remove_blocks_feature_extraction.h5')\n",
    "\n",
    "set_trainable = False\n",
    "for layer in model8.get_layer('base').layers:\n",
    "    if layer.name == 'conv2_block1_1_conv':\n",
    "        set_trainable = True\n",
    "    if set_trainable:\n",
    "        layer.trainable = True\n",
    "    else:\n",
    "        layer.trainable = False\n",
    "compile_model(model8, learning_rate=1e-5)"
   ]
  },
  {
   "cell_type": "code",
   "execution_count": null,
   "metadata": {
    "id": "qpN_CD3gH34Y"
   },
   "outputs": [],
   "source": [
    "run_model(model8, 'Experiment8_remove_blocks_fine_tuning', epochs=30)"
   ]
  },
  {
   "cell_type": "code",
   "execution_count": null,
   "metadata": {
    "id": "0cyx0OgGNoig"
   },
   "outputs": [],
   "source": [
    "evaluate_model(tf.keras.models.load_model(GLOBAL_MODELS_FOLDER + '/Experiment8_remove_blocks_fine_tuning.h5'))"
   ]
  },
  {
   "cell_type": "markdown",
   "metadata": {
    "id": "3hiRGVy88lbw"
   },
   "source": [
    "##### Experiment 9: one dense layer with 512 neurons"
   ]
  },
  {
   "cell_type": "code",
   "execution_count": null,
   "metadata": {
    "id": "oMcpZsQ-8nB0"
   },
   "outputs": [],
   "source": [
    "model9 = tf.keras.models.load_model('/content/drive/My Drive/Experiment4_remove_blocks_feature_extraction.h5')\n",
    "\n",
    "set_trainable = False\n",
    "for layer in model9.get_layer('base').layers:\n",
    "    if layer.name == 'conv2_block1_1_conv':\n",
    "        set_trainable = True\n",
    "    if set_trainable:\n",
    "        layer.trainable = True\n",
    "    else:\n",
    "        layer.trainable = False\n",
    "compile_model(model9, learning_rate=1e-5)"
   ]
  },
  {
   "cell_type": "code",
   "execution_count": null,
   "metadata": {
    "id": "_zEMOfy09A02"
   },
   "outputs": [],
   "source": [
    "run_model(model9, 'Experiment9_remove_blocks_fine_tuning', epochs=30)"
   ]
  },
  {
   "cell_type": "code",
   "execution_count": null,
   "metadata": {
    "id": "S2MLWUUGD-Ho"
   },
   "outputs": [],
   "source": [
    "evaluate_model(tf.keras.models.load_model(GLOBAL_MODELS_FOLDER + '/Experiment9_remove_blocks_fine_tuning.h5'))"
   ]
  },
  {
   "cell_type": "markdown",
   "metadata": {
    "id": "wEJwXue7OaVO"
   },
   "source": [
    "#### Unfreeze all the base network\n",
    "Let's try to unfreeze all the layers of the base network"
   ]
  },
  {
   "cell_type": "markdown",
   "metadata": {
    "id": "2cCRARhUOdnd"
   },
   "source": [
    "##### Experiment 10: one dense layer with 256 neurons and dropout"
   ]
  },
  {
   "cell_type": "code",
   "execution_count": null,
   "metadata": {
    "id": "CZG5PE_kOg4L"
   },
   "outputs": [],
   "source": [
    "model10 = tf.keras.models.load_model('/content/drive/My Drive/Experiment2_remove_blocks_feature_extraction.h5')\n",
    "model10.trainable = True\n",
    "compile_model(model10, learning_rate=1e-5)"
   ]
  },
  {
   "cell_type": "code",
   "execution_count": null,
   "metadata": {
    "id": "-CRr2ck8PANH"
   },
   "outputs": [],
   "source": [
    "run_model(model10, 'Experiment10_remove_blocks_fine_tuning', epochs=30)"
   ]
  },
  {
   "cell_type": "code",
   "execution_count": null,
   "metadata": {
    "id": "FgDU8joDUOf5"
   },
   "outputs": [],
   "source": [
    "evaluate_model(tf.keras.models.load_model(GLOBAL_MODELS_FOLDER + '/Experiment10_remove_blocks_fine_tuning.h5'))"
   ]
  },
  {
   "cell_type": "markdown",
   "metadata": {
    "id": "gObp1ciAEQOm"
   },
   "source": [
    "##### Experiment 11: one dense layer with 512 neurons"
   ]
  },
  {
   "cell_type": "code",
   "execution_count": null,
   "metadata": {
    "id": "DanlvwfAER6u"
   },
   "outputs": [],
   "source": [
    "model11 = tf.keras.models.load_model('/content/drive/My Drive/Experiment4_remove_blocks_feature_extraction.h5')\n",
    "model11.trainable = True\n",
    "compile_model(model11, learning_rate=1e-5)"
   ]
  },
  {
   "cell_type": "code",
   "execution_count": null,
   "metadata": {
    "id": "frEmxruHEcD3"
   },
   "outputs": [],
   "source": [
    "run_model(model11, 'Experiment11_remove_blocks_fine_tuning', epochs=30)"
   ]
  },
  {
   "cell_type": "code",
   "execution_count": null,
   "metadata": {
    "id": "nzW_rf8BMGL8"
   },
   "outputs": [],
   "source": [
    "evaluate_model(tf.keras.models.load_model(GLOBAL_MODELS_FOLDER + '/Experiment11_remove_blocks_fine_tuning.h5'))"
   ]
  },
  {
   "cell_type": "markdown",
   "metadata": {
    "id": "8KDuI_N_yvgq"
   },
   "source": [
    "##### Experiment 12: two dense layers of 512 neurons"
   ]
  },
  {
   "cell_type": "code",
   "execution_count": null,
   "metadata": {
    "id": "5iq6DYJIyxdB"
   },
   "outputs": [],
   "source": [
    "model12 = tf.keras.models.load_model('/content/drive/My Drive/Experiment5_remove_blocks_feature_extraction.h5')\n",
    "model12.trainable = True\n",
    "compile_model(model12, learning_rate=1e-5)"
   ]
  },
  {
   "cell_type": "code",
   "execution_count": null,
   "metadata": {
    "id": "0xeZOkcBy4VL"
   },
   "outputs": [],
   "source": [
    "run_model(model12, 'Experiment12_remove_blocks_fine_tuning', epochs=30)"
   ]
  },
  {
   "cell_type": "code",
   "execution_count": null,
   "metadata": {
    "id": "73zSsnQJ5Zdn"
   },
   "outputs": [],
   "source": [
    "evaluate_model(tf.keras.models.load_model(GLOBAL_MODELS_FOLDER + '/Experiment12_remove_blocks_fine_tuning.h5'))"
   ]
  },
  {
   "cell_type": "markdown",
   "metadata": {
    "id": "knCqeBkvMyhu"
   },
   "source": [
    "# CLAHE\n",
    "We will try now to use the dataset in which the images are preprocesses with CLAHE. We will test the performance with the best network previuosly found and we will compare the results. Unfortunately, no significant improvements were found."
   ]
  },
  {
   "cell_type": "markdown",
   "metadata": {
    "id": "nALraZz2U5Y9"
   },
   "source": [
    "## Load dataset from Google Drive\n",
    "The dataset is stored in Google Drive in a zip file, we unzip it locally for better performance."
   ]
  },
  {
   "cell_type": "code",
   "execution_count": null,
   "metadata": {
    "id": "9vjAuiZnN5IQ"
   },
   "outputs": [],
   "source": [
    "drive.mount('/content/drive', force_remount=True)\n",
    "!unzip -q \"/content/drive/My Drive/SplittedDataset_CLAHE.zip\" -d \"/content\""
   ]
  },
  {
   "cell_type": "markdown",
   "metadata": {
    "id": "BRE2Vb3pU-XT"
   },
   "source": [
    "## Set parameters"
   ]
  },
  {
   "cell_type": "code",
   "execution_count": null,
   "metadata": {
    "id": "5EC3yL1sNyrU"
   },
   "outputs": [],
   "source": [
    "DATASET_PATH = \"/content/SplittedDataset_CLAHE\"\n",
    "TRAINING_PATH = DATASET_PATH + '/training_set'\n",
    "TRAINING_ALL_PATH = TRAINING_PATH + '/all'\n",
    "TRAINING_HEM_PATH = TRAINING_PATH + '/hem'\n",
    "VALIDATION_PATH = DATASET_PATH + '/validation_set'\n",
    "TEST_PATH = DATASET_PATH + '/test_set'"
   ]
  },
  {
   "cell_type": "markdown",
   "metadata": {
    "id": "7kHwzA4XVCXV"
   },
   "source": [
    "## Load dataset\n",
    "The dataset, properly preprocessed, is now located in the local machine."
   ]
  },
  {
   "cell_type": "code",
   "execution_count": null,
   "metadata": {
    "id": "WMbqI2A5OFaG"
   },
   "outputs": [],
   "source": [
    "set_seed()\n",
    "\n",
    "train_dataset = load_training_set(IMAGE_HEIGHT, IMAGE_WIDTH, BATCH_SIZE)\n",
    "validation_dataset = load_validation_set(IMAGE_HEIGHT, IMAGE_WIDTH, BATCH_SIZE)\n",
    "test_dataset = load_test_set(IMAGE_HEIGHT, IMAGE_WIDTH, BATCH_SIZE)"
   ]
  },
  {
   "cell_type": "markdown",
   "metadata": {
    "id": "KeVvyfZ7VIcD"
   },
   "source": [
    "## Remove final block\n",
    "As we did for the original dataset, here too we are going to remove the last block that deals with the high-level features of Imagenet"
   ]
  },
  {
   "cell_type": "code",
   "execution_count": null,
   "metadata": {
    "id": "YmXKorFDM0FO"
   },
   "outputs": [],
   "source": [
    "conv_base = keras.applications.resnet.ResNet50(include_top = False, weights='imagenet', input_shape=(IMAGE_HEIGHT,IMAGE_WIDTH,3))"
   ]
  },
  {
   "cell_type": "code",
   "execution_count": null,
   "metadata": {
    "id": "wlBXFhJpNFbB"
   },
   "outputs": [],
   "source": [
    "base = Model(conv_base.input, conv_base.layers[get_index_by_layer_name(conv_base, 'conv4_block6_out')].output, name='base')\n",
    "base.trainable = False\n",
    "base.summary()"
   ]
  },
  {
   "cell_type": "markdown",
   "metadata": {
    "id": "z-nvXU8JM7qg"
   },
   "source": [
    "## Feature extraction\n",
    "Firstly, we try the simplest approach in which we use the pretrained network to extract feature and we use our classifier to classify the images."
   ]
  },
  {
   "cell_type": "markdown",
   "metadata": {
    "id": "K2soPVDqNhAZ"
   },
   "source": [
    "### Experiment 1: one dense layer with 256 neurons and dropout\n",
    "This is the first best model found in the previous section with the standard dataset."
   ]
  },
  {
   "cell_type": "code",
   "execution_count": null,
   "metadata": {
    "id": "qLTNH8WsNOAC"
   },
   "outputs": [],
   "source": [
    "# define the classifier\n",
    "inputs = keras.Input(shape=(IMAGE_HEIGHT, IMAGE_WIDTH, 3))\n",
    "x = keras.applications.resnet50.preprocess_input(inputs)\n",
    "x = base(x)\n",
    "x = layers.GlobalAveragePooling2D() (x)\n",
    "x = layers.Dense(256)(x)\n",
    "x = layers.Dropout(0.5)(x)\n",
    "outputs = layers.Dense(1, activation='sigmoid')(x)\n",
    "model1 = keras.Model(inputs=inputs, outputs=outputs)\n",
    "compile_model(model1)"
   ]
  },
  {
   "cell_type": "code",
   "execution_count": null,
   "metadata": {
    "id": "bWB3F40DNqfF"
   },
   "outputs": [],
   "source": [
    "run_model(model1, \"Experiment1_remove_blocks_feature_extraction_CLAHE\", epochs=50)"
   ]
  },
  {
   "cell_type": "code",
   "execution_count": null,
   "metadata": {
    "id": "dIHcqUYB2rZc"
   },
   "outputs": [],
   "source": [
    "evaluate_model(tf.keras.models.load_model(GLOBAL_MODELS_FOLDER + '/Experiment1_remove_blocks_feature_extraction_CLAHE.h5'))"
   ]
  },
  {
   "cell_type": "markdown",
   "metadata": {
    "id": "_AJlP09fvADf"
   },
   "source": [
    "## Fine Tuning\n",
    "Now we can fine-tune the base network to adapt it to extract more useful features in our images."
   ]
  },
  {
   "cell_type": "markdown",
   "metadata": {
    "id": "kliWAzK82Rbv"
   },
   "source": [
    "### Unfreeze up to the second block included\n",
    "We tried directly to unfreeze up to the second block included, just to compare with the previous results. We can easily see that unfortunately there are no significative improvements, indeed the results are less satisfactory than the same network on the original dataset."
   ]
  },
  {
   "cell_type": "markdown",
   "metadata": {
    "id": "qIu0gL512fyF"
   },
   "source": [
    "#### Experiment 1: one dense layer with 256 neurons and dropout"
   ]
  },
  {
   "cell_type": "code",
   "execution_count": null,
   "metadata": {
    "id": "YHSQH7zRvCy7"
   },
   "outputs": [],
   "source": [
    "model1 = tf.keras.models.load_model(GLOBAL_MODELS_FOLDER + '/Experiment1_remove_blocks_feature_extraction_CLAHE.h5')\n",
    "\n",
    "set_trainable = False\n",
    "for layer in model1.get_layer('base').layers:\n",
    "    if layer.name == 'conv2_block1_1_conv':\n",
    "        set_trainable = True\n",
    "    if set_trainable:\n",
    "        layer.trainable = True\n",
    "    else:\n",
    "        layer.trainable = False\n",
    "compile_model(model1, learning_rate=1e-5)"
   ]
  },
  {
   "cell_type": "code",
   "execution_count": null,
   "metadata": {
    "id": "xUFcp1Q43kJo"
   },
   "outputs": [],
   "source": [
    "run_model(model1, \"Experiment1_remove_blocks_fine_tuning_CLAHE\", epochs=50)"
   ]
  },
  {
   "cell_type": "code",
   "execution_count": null,
   "metadata": {
    "id": "CjviDm_u8GyY"
   },
   "outputs": [],
   "source": [
    "evaluate_model(tf.keras.models.load_model(GLOBAL_MODELS_FOLDER + '/Experiment1_remove_blocks_fine_tuning_CLAHE.h5'))"
   ]
  }
 ],
 "metadata": {
  "accelerator": "GPU",
  "colab": {
   "provenance": [],
   "toc_visible": true
  },
  "kernelspec": {
   "display_name": "Python 3 (ipykernel)",
   "language": "python",
   "name": "python3"
  },
  "language_info": {
   "codemirror_mode": {
    "name": "ipython",
    "version": 3
   },
   "file_extension": ".py",
   "mimetype": "text/x-python",
   "name": "python",
   "nbconvert_exporter": "python",
   "pygments_lexer": "ipython3",
   "version": "3.11.8"
  }
 },
 "nbformat": 4,
 "nbformat_minor": 4
}
